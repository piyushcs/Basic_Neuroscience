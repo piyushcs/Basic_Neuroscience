{
 "cells": [
  {
   "cell_type": "markdown",
   "metadata": {},
   "source": [
    "### Loading the fmri matlab dataset to python"
   ]
  },
  {
   "cell_type": "code",
   "execution_count": 148,
   "metadata": {},
   "outputs": [],
   "source": [
    "import sklearn\n",
    "import numpy as np\n",
    "import scipy.io as sio\n",
    "from sklearn.model_selection import KFold"
   ]
  },
  {
   "cell_type": "markdown",
   "metadata": {},
   "source": [
    "#### Download the dataset to data folder fetch the file names"
   ]
  },
  {
   "cell_type": "code",
   "execution_count": 149,
   "metadata": {},
   "outputs": [],
   "source": [
    "filename = 'data/data-science-P1.mat'"
   ]
  },
  {
   "cell_type": "markdown",
   "metadata": {},
   "source": [
    "#### Function to loading the data"
   ]
  },
  {
   "cell_type": "code",
   "execution_count": 144,
   "metadata": {},
   "outputs": [],
   "source": [
    "def decodeData(filename, multi_dimention=False, category_required=False, shuffle=False):\n",
    "    mat_contents = sio.loadmat(filename, squeeze_me=True)\n",
    "    \n",
    "    # fetching the label details\n",
    "    info = mat_contents['info']\n",
    "    \n",
    "    category, label, epoch = [], [], []\n",
    "    for item in info:\n",
    "        category.append(item[0])\n",
    "        label.append(item[2])\n",
    "        epoch.append(item[4])\n",
    "\n",
    "    if category_required:\n",
    "        Y = np.array(category)\n",
    "    else:\n",
    "        Y = np.array(label)\n",
    "    \n",
    "    Y = Y.reshape(6, 60)\n",
    "    \n",
    "    # fetching the fmri data\n",
    "    if not multi_dimention:\n",
    "        X = mat_contents['data'].reshape(6, 60)\n",
    "    else:\n",
    "        # need to implement 3D convert logic\n",
    "        X = mat_contents['data']\n",
    "    \n",
    "    return X, Y"
   ]
  },
  {
   "cell_type": "code",
   "execution_count": 145,
   "metadata": {},
   "outputs": [],
   "source": [
    "X, Y = decodeData(filename)"
   ]
  },
  {
   "cell_type": "markdown",
   "metadata": {},
   "source": [
    "#### Test and train split example"
   ]
  },
  {
   "cell_type": "code",
   "execution_count": 155,
   "metadata": {},
   "outputs": [
    {
     "name": "stdout",
     "output_type": "stream",
     "text": [
      "[1 2 3 4 5] [0]\n",
      "[0 2 3 4 5] [1]\n",
      "[0 1 3 4 5] [2]\n",
      "[0 1 2 4 5] [3]\n",
      "[0 1 2 3 5] [4]\n",
      "[0 1 2 3 4] [5]\n"
     ]
    }
   ],
   "source": [
    "kf = KFold(n_splits=6)\n",
    "for train_index, test_index in kf.split(range(6)):\n",
    "    print(train_index, test_index)"
   ]
  }
 ],
 "metadata": {
  "kernelspec": {
   "display_name": "Python 3",
   "language": "python",
   "name": "python3"
  },
  "language_info": {
   "codemirror_mode": {
    "name": "ipython",
    "version": 3
   },
   "file_extension": ".py",
   "mimetype": "text/x-python",
   "name": "python",
   "nbconvert_exporter": "python",
   "pygments_lexer": "ipython3",
   "version": "3.6.8"
  }
 },
 "nbformat": 4,
 "nbformat_minor": 4
}
