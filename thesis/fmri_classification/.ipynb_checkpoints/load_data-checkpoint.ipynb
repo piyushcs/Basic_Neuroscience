{
 "cells": [
  {
   "cell_type": "code",
   "execution_count": 23,
   "metadata": {},
   "outputs": [],
   "source": [
    "from fmriDataset import fmriDataset\n",
    "from voxelCorr import voxelCorr"
   ]
  },
  {
   "cell_type": "code",
   "execution_count": 2,
   "metadata": {},
   "outputs": [
    {
     "name": "stdout",
     "output_type": "stream",
     "text": [
      "False True\n"
     ]
    }
   ],
   "source": [
    "dataset = fmriDataset()"
   ]
  },
  {
   "cell_type": "code",
   "execution_count": 3,
   "metadata": {},
   "outputs": [],
   "source": [
    "X, Y = dataset.getData()"
   ]
  },
  {
   "cell_type": "code",
   "execution_count": 4,
   "metadata": {},
   "outputs": [
    {
     "data": {
      "text/plain": [
       "(6, 60, 21764)"
      ]
     },
     "execution_count": 4,
     "metadata": {},
     "output_type": "execute_result"
    }
   ],
   "source": [
    "X.shape"
   ]
  },
  {
   "cell_type": "code",
   "execution_count": 9,
   "metadata": {},
   "outputs": [
    {
     "ename": "AttributeError",
     "evalue": "'tuple' object has no attribute 'shape'",
     "output_type": "error",
     "traceback": [
      "\u001b[0;31m---------------------------------------------------------------------------\u001b[0m",
      "\u001b[0;31mAttributeError\u001b[0m                            Traceback (most recent call last)",
      "\u001b[0;32m<ipython-input-9-4db5c40e704b>\u001b[0m in \u001b[0;36m<module>\u001b[0;34m\u001b[0m\n\u001b[0;32m----> 1\u001b[0;31m \u001b[0mdataset\u001b[0m\u001b[0;34m.\u001b[0m\u001b[0mgetData\u001b[0m\u001b[0;34m(\u001b[0m\u001b[0;34m)\u001b[0m\u001b[0;34m.\u001b[0m\u001b[0mshape\u001b[0m\u001b[0;34m\u001b[0m\u001b[0;34m\u001b[0m\u001b[0m\n\u001b[0m",
      "\u001b[0;31mAttributeError\u001b[0m: 'tuple' object has no attribute 'shape'"
     ]
    }
   ],
   "source": []
  },
  {
   "cell_type": "code",
   "execution_count": 11,
   "metadata": {},
   "outputs": [],
   "source": [
    "class voxelCorr:\n",
    "    def __init__(self, data, nEpochs):\n",
    "        self.fmriData = data\n",
    "        self.nEpochs = nEpochs\n",
    "        self.__voxelsMatrix = None\n",
    "        self.__voxelsScore = None\n",
    "        self.__pairs = None\n",
    "        \n",
    "        # setting up the voxel matrix\n",
    "        self.__setVoxelsMatrix()\n",
    "        \n",
    "        # find possible pairs for epochs\n",
    "        self.__findPossiblePairs()\n",
    "        \n",
    "        # calculating voxel correlation score\n",
    "        self.setVoxelsScore()\n",
    "    \n",
    "    ### reformat training data to do voxel correlation analysis\n",
    "    def __setVoxelsMatrix(self):\n",
    "        voxelsMatrix = list()\n",
    "        nVoxels = self.fmriData.shape[1]\n",
    "        nLabels = (self.fmriData.shape[0])/self.nEpochs\n",
    "        for n in range(nVoxels):\n",
    "            voxelFlat = self.fmriData[:, n]\n",
    "            \n",
    "            # single voxel rearrangement\n",
    "            voxelMatrix = list()\n",
    "            for l in range(int(nLabels)):\n",
    "                index = l * self.nEpochs    \n",
    "                voxelMatrix.append(voxelFlat[index:index+self.nEpochs])\n",
    "            \n",
    "            voxelsMatrix.append(np.transpose(voxelMatrix))\n",
    "        \n",
    "        self.__voxelsMatrix = np.array(voxelsMatrix)\n",
    "    \n",
    "    ### calculating the voxel correlation score\n",
    "    def setVoxelsScore(self):\n",
    "        if len(self.__voxelsMatrix) > 0:\n",
    "            \n",
    "            # find correlation between pairs\n",
    "            vCorrArray = list()\n",
    "            for v in range(self.__voxelsMatrix.shape[0]):\n",
    "                voxel = self.__voxelsMatrix[v]\n",
    "                corr = 0.0\n",
    "                for pair in self.__pairs:\n",
    "                    corr += np.corrcoef(voxel[pair[0]], voxel[pair[1]])[0, 1]\n",
    "                \n",
    "                vCorrArray.append(corr/len(self.__pairs))\n",
    "            \n",
    "            self.__voxelsScore = np.array(vCorrArray)\n",
    "            \n",
    "        else:\n",
    "            print('Voxel Matrix is not generated')\n",
    "    \n",
    "    ### find all possible pairs between epochs\n",
    "    def __findPossiblePairs(self):\n",
    "        pairs = []\n",
    "        for l in itertools.combinations(range(self.nEpochs), 2):\n",
    "            pairs.append(l)\n",
    "        self.__pairs = pairs\n",
    "    \n",
    "    ### get the voxels score\n",
    "    def getVoxelsScore(self):\n",
    "        return self.__voxelsScore"
   ]
  },
  {
   "cell_type": "code",
   "execution_count": 12,
   "metadata": {},
   "outputs": [],
   "source": [
    "train_index = [0, 1, 2, 3, 4]\n",
    "test_index = [5]"
   ]
  },
  {
   "cell_type": "code",
   "execution_count": 13,
   "metadata": {},
   "outputs": [],
   "source": [
    "xTrain = X[train_index]"
   ]
  },
  {
   "cell_type": "code",
   "execution_count": 14,
   "metadata": {},
   "outputs": [],
   "source": [
    "shape = xTrain.shape"
   ]
  },
  {
   "cell_type": "code",
   "execution_count": 15,
   "metadata": {},
   "outputs": [],
   "source": [
    "xTrain = xTrain.reshape(shape[0]*shape[1], shape[2])"
   ]
  },
  {
   "cell_type": "code",
   "execution_count": 16,
   "metadata": {},
   "outputs": [
    {
     "data": {
      "text/plain": [
       "(300, 21764)"
      ]
     },
     "execution_count": 16,
     "metadata": {},
     "output_type": "execute_result"
    }
   ],
   "source": [
    "xTrain.shape"
   ]
  },
  {
   "cell_type": "code",
   "execution_count": 17,
   "metadata": {},
   "outputs": [],
   "source": [
    "vCorr = voxelCorr(xTrain, 5)\n",
    "\n",
    "# vCorr.setVoxelArray()"
   ]
  },
  {
   "cell_type": "code",
   "execution_count": 20,
   "metadata": {},
   "outputs": [],
   "source": [
    "voxelScore = vCorr.getVoxelsScore()"
   ]
  },
  {
   "cell_type": "code",
   "execution_count": 22,
   "metadata": {},
   "outputs": [
    {
     "data": {
      "text/plain": [
       "0.300622058976512"
      ]
     },
     "execution_count": 22,
     "metadata": {},
     "output_type": "execute_result"
    }
   ],
   "source": [
    "max(voxelScore)"
   ]
  },
  {
   "cell_type": "code",
   "execution_count": null,
   "metadata": {},
   "outputs": [],
   "source": []
  }
 ],
 "metadata": {
  "kernelspec": {
   "display_name": "Python 3",
   "language": "python",
   "name": "python3"
  },
  "language_info": {
   "codemirror_mode": {
    "name": "ipython",
    "version": 3
   },
   "file_extension": ".py",
   "mimetype": "text/x-python",
   "name": "python",
   "nbconvert_exporter": "python",
   "pygments_lexer": "ipython3",
   "version": "3.6.8"
  }
 },
 "nbformat": 4,
 "nbformat_minor": 4
}
