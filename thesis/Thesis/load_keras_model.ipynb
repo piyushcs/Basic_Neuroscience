{
 "cells": [
  {
   "cell_type": "code",
   "execution_count": 83,
   "metadata": {},
   "outputs": [],
   "source": [
    "from keras.models import model_from_json\n",
    "from keras.layers import Conv3D, MaxPooling3D, UpSampling3D, BatchNormalization, Activation, Input\n",
    "from keras.models import Model\n",
    "from keras import backend as K\n",
    "import numpy as np\n",
    "from sklearn import preprocessing\n",
    "import random\n",
    "from random import randint\n",
    "# random.seed(9001)"
   ]
  },
  {
   "cell_type": "code",
   "execution_count": 84,
   "metadata": {},
   "outputs": [],
   "source": [
    "json_file = open('keras/model_2/model.json', 'r')\n",
    "loaded_model_json = json_file.read()\n",
    "json_file.close()"
   ]
  },
  {
   "cell_type": "code",
   "execution_count": 85,
   "metadata": {},
   "outputs": [],
   "source": [
    "loaded_model = model_from_json(loaded_model_json)\n",
    "loaded_model.load_weights(\"keras/model_2/model.h5\")\n",
    "loaded_model.compile(optimizer='adadelta', loss='binary_crossentropy')"
   ]
  },
  {
   "cell_type": "code",
   "execution_count": 86,
   "metadata": {},
   "outputs": [],
   "source": [
    "def train_test_split(split_part):\n",
    "    og_data = np.load('images.npy')\n",
    "    labels = np.load('labels.npy')\n",
    "    \n",
    "    # Label encoder\n",
    "    le = preprocessing.LabelEncoder()\n",
    "    le.fit(labels)\n",
    "    labels = le.transform(labels)\n",
    "    x_train, x_test, y_train, y_test = [], [], [], []\n",
    "\n",
    "    norm_data = og_data/255\n",
    "    # Sorting the data\n",
    "    sorted_index = np.argsort(labels)\n",
    "    sorted_labels = labels[sorted_index]\n",
    "    sorted_og_data = og_data[sorted_index]\n",
    "    sorted_norm_data = norm_data[sorted_index]\n",
    "\n",
    "    # split the data into train and test\n",
    "    test_random_indices = []\n",
    "    for i in range(int(sorted_labels.shape[0]/split_part)):\n",
    "        index = i*split_part + randint(0, split_part - 1)\n",
    "        test_random_indices.append(index)\n",
    "\n",
    "    x_train = np.delete(sorted_norm_data, test_random_indices, 0)\n",
    "    x_test = sorted_norm_data[test_random_indices]\n",
    "    y_train = np.delete(sorted_labels, test_random_indices)\n",
    "    y_test = sorted_labels[test_random_indices]\n",
    "    \n",
    "    return x_train, x_test, y_train, y_test"
   ]
  },
  {
   "cell_type": "code",
   "execution_count": 87,
   "metadata": {},
   "outputs": [
    {
     "name": "stdout",
     "output_type": "stream",
     "text": [
      "Train test split\n",
      "Preprocessing\n"
     ]
    }
   ],
   "source": [
    "print('Train test split')\n",
    "x_train, x_test, y_train, y_test = train_test_split(6)\n",
    "\n",
    "print('Preprocessing')\n",
    "X = []\n",
    "for i in range(x_train.shape[0]):\n",
    "    X.append(np.pad(x_train[i], ((3, 2), (2, 1), (1, 0)), 'constant', constant_values=(0.0)))\n",
    "\n",
    "X_t = []\n",
    "\n",
    "for i in range(x_test.shape[0]):\n",
    "    X_t.append(np.pad(x_test[i], ((3, 2), (2, 1), (1, 0)), 'constant', constant_values=(0.0))) \n",
    "\n",
    "X = np.array(X, dtype=float)\n",
    "X = X.reshape(300, 56, 64, 24, 1)\n",
    "\n",
    "X_t = np.array(X_t, dtype=float)\n",
    "X_t = X_t.reshape(60, 56, 64, 24, 1)"
   ]
  },
  {
   "cell_type": "code",
   "execution_count": 20,
   "metadata": {},
   "outputs": [
    {
     "name": "stdout",
     "output_type": "stream",
     "text": [
      "300/300 [==============================] - 134s 446ms/step\n"
     ]
    }
   ],
   "source": [
    "# score = loaded_model.evaluate(X, X, verbose=1)"
   ]
  },
  {
   "cell_type": "code",
   "execution_count": 88,
   "metadata": {},
   "outputs": [
    {
     "name": "stdout",
     "output_type": "stream",
     "text": [
      "60/60 [==============================] - 25s 413ms/step\n"
     ]
    },
    {
     "data": {
      "text/plain": [
       "0.18124904135862988"
      ]
     },
     "execution_count": 88,
     "metadata": {},
     "output_type": "execute_result"
    }
   ],
   "source": [
    "loaded_model.evaluate(X_t, X_t, verbose=1)"
   ]
  },
  {
   "cell_type": "code",
   "execution_count": 89,
   "metadata": {},
   "outputs": [],
   "source": [
    "input_shape = (56, 64, 24, 1)\n",
    "input_img = Input(shape=input_shape)\n",
    "\n",
    "# x = Conv3D(16, (3, 3, 3), padding='same')(input_img)\n",
    "# x = BatchNormalization()(x)\n",
    "# x = Activation(activation='relu')(x)\n",
    "# x = MaxPooling3D((2, 2, 2), padding='same')(x)\n",
    "# x = Conv3D(8, (3, 3, 3), padding='same')(x)\n",
    "# x = BatchNormalization()(x)\n",
    "# x = Activation(activation='relu')(x)\n",
    "# x = MaxPooling3D((2, 2, 2), padding='same')(x)\n",
    "# x = Conv3D(8, (3, 3, 3), padding='same')(x)\n",
    "# x = BatchNormalization()(x)\n",
    "# x = Activation(activation='relu')(x)\n",
    "\n",
    "\n",
    "x = Conv3D(16, (3, 3, 3), activation='relu', padding='same')(input_img)\n",
    "x = MaxPooling3D((2, 2, 2), padding='same')(x)\n",
    "x = Conv3D(8, (3, 3, 3), activation='relu', padding='same')(x)\n",
    "x = MaxPooling3D((2, 2, 2), padding='same')(x)\n",
    "x = Conv3D(8, (3, 3, 3), activation='relu', padding='same')(x)\n",
    "\n",
    "encoded = MaxPooling3D((2, 2, 2), padding='same')(x)"
   ]
  },
  {
   "cell_type": "code",
   "execution_count": 91,
   "metadata": {},
   "outputs": [],
   "source": [
    "encoder = Model(input_img, encoded)\n",
    "\n",
    "Xtr = encoder.predict(X)\n",
    "Xts = encoder.predict(X_t)"
   ]
  },
  {
   "cell_type": "code",
   "execution_count": 42,
   "metadata": {},
   "outputs": [],
   "source": [
    "fmri_batch = dict()\n",
    "\n",
    "fmri_batch['Xtr'] = Xtr\n",
    "fmri_batch['Xts'] = Xts\n",
    "fmri_batch['Ytr'] = y_train\n",
    "fmri_batch['Yts'] = y_test"
   ]
  },
  {
   "cell_type": "code",
   "execution_count": 44,
   "metadata": {},
   "outputs": [],
   "source": [
    "np.save('keras/model_1/data', fmri_batch)"
   ]
  },
  {
   "cell_type": "code",
   "execution_count": 45,
   "metadata": {},
   "outputs": [],
   "source": [
    "data = np.load('keras/model_1/data.npy')"
   ]
  },
  {
   "cell_type": "code",
   "execution_count": 92,
   "metadata": {},
   "outputs": [],
   "source": [
    "Xtr = Xtr.reshape(300, 1344)\n",
    "Xts = Xts.reshape(60, 1344)"
   ]
  },
  {
   "cell_type": "code",
   "execution_count": 93,
   "metadata": {},
   "outputs": [],
   "source": [
    "from sklearn.svm import LinearSVC"
   ]
  },
  {
   "cell_type": "code",
   "execution_count": 95,
   "metadata": {},
   "outputs": [
    {
     "name": "stdout",
     "output_type": "stream",
     "text": [
      "[0.11666666666666665, 0.24999999999999997, 0.31666666666666665, 0.44999999999999996]\n"
     ]
    }
   ],
   "source": [
    "clf = LinearSVC()\n",
    "clf.fit(Xtr, y_train)\n",
    "\n",
    "results_top = []\n",
    "for i in [1, 3, 5, 10]:\n",
    "\tpredicted_correct = 0\n",
    "\tfor k in range(y_test.shape[0]):\n",
    "\t\to = Xts[k]\n",
    "\t\to = o.reshape(1, -1)\n",
    "\t\tdecision_lbl = clf.decision_function(o)[0]\n",
    "\t\ttop_class = i\n",
    "\t\ttop_n = np.argsort(decision_lbl)[::-1][:top_class]\n",
    "\t\tif y_test[k] in top_n:\n",
    "\t\t\tpredicted_correct += 1.0/60\n",
    "\tresults_top.append(predicted_correct)\n",
    "\n",
    "print(results_top)"
   ]
  },
  {
   "cell_type": "code",
   "execution_count": null,
   "metadata": {},
   "outputs": [],
   "source": []
  }
 ],
 "metadata": {
  "kernelspec": {
   "display_name": "Python 2",
   "language": "python",
   "name": "python2"
  },
  "language_info": {
   "codemirror_mode": {
    "name": "ipython",
    "version": 2
   },
   "file_extension": ".py",
   "mimetype": "text/x-python",
   "name": "python",
   "nbconvert_exporter": "python",
   "pygments_lexer": "ipython2",
   "version": "2.7.10"
  }
 },
 "nbformat": 4,
 "nbformat_minor": 2
}
