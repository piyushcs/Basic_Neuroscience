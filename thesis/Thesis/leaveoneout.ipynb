{
 "cells": [
  {
   "cell_type": "code",
   "execution_count": 1,
   "metadata": {},
   "outputs": [],
   "source": [
    "import itertools\n",
    "from sklearn import preprocessing\n",
    "from random import randint\n",
    "import numpy as np\n",
    "from sklearn import preprocessing\n",
    "from sklearn.svm import LinearSVC\n",
    "import random"
   ]
  },
  {
   "cell_type": "code",
   "execution_count": 2,
   "metadata": {},
   "outputs": [
    {
     "name": "stdout",
     "output_type": "stream",
     "text": [
      "[(0, 1), (0, 2), (0, 3), (0, 4), (1, 2), (1, 3), (1, 4), (2, 3), (2, 4), (3, 4)]\n"
     ]
    }
   ],
   "source": [
    "pairs = []\n",
    "for l in itertools.combinations(range(5), 2):\n",
    "    pairs.append(l)\n",
    "print pairs"
   ]
  },
  {
   "cell_type": "code",
   "execution_count": 3,
   "metadata": {},
   "outputs": [],
   "source": [
    "def train_test_split(indices):\n",
    "    og_data = np.load('leaveoneout/data_p1.npy')\n",
    "    labels = np.load('leaveoneout/labels_p1.npy')\n",
    "    conds = np.load('leaveoneout/conds_p1.npy')\n",
    "    \n",
    "    # Label encoder\n",
    "    le = preprocessing.LabelEncoder()\n",
    "    le.fit(labels)\n",
    "    labels = le.transform(labels)\n",
    "    x_train, x_test, y_train, y_test = [], [], [], []\n",
    "\n",
    "    smin = 0\n",
    "    smax = 1\n",
    "    x = og_data\n",
    "    xmax, xmin = x.max(), x.min()\n",
    "    norm_data = (x - xmin)*(smax - smin)/(xmax - xmin) + smin\n",
    "\n",
    "    # Sorting the data\n",
    "    sorted_index = np.argsort(labels)\n",
    "    sorted_labels = labels[sorted_index]\n",
    "    sorted_og_data = og_data[sorted_index]\n",
    "    sorted_conds = conds[sorted_index]\n",
    "    sorted_norm_data = norm_data[sorted_index]\n",
    "\n",
    "    # split the data into train and test\n",
    "#     test_random_indices = []\n",
    "#     for i in range(sorted_labels.shape[0]/split_part):\n",
    "#         index = i*split_part + randint(0, split_part - 1)\n",
    "#         test_random_indices.append(index)\n",
    "\n",
    "    x_train = np.delete(sorted_norm_data, indices, 0)\n",
    "    x_test = sorted_norm_data[indices]\n",
    "    y_train = np.delete(sorted_labels, indices)\n",
    "    y_test = sorted_labels[indices]\n",
    "    z_train = np.delete(sorted_conds, indices)\n",
    "    z_test = sorted_conds[indices]\n",
    "    \n",
    "    return x_train, x_test, y_train, y_test, z_train, z_test\n",
    "\n",
    "\n",
    "def get_mat(x_train):\n",
    "    voxel_corr_matrix = []\n",
    "    size = x_train.shape[0]/5\n",
    "    for i in range(x_train.shape[1]):\n",
    "        voxel = x_train[:, i]\n",
    "        pre_corr_matrix = []\n",
    "        for j in range(size):\n",
    "            k = j*5\n",
    "            pre_corr_matrix.append(voxel[k:k+5])\n",
    "\n",
    "        voxel_corr_matrix.append(np.transpose(pre_corr_matrix))\n",
    "\n",
    "    voxel_corr_matrix = np.asarray(voxel_corr_matrix)\n",
    "    \n",
    "    return voxel_corr_matrix"
   ]
  },
  {
   "cell_type": "code",
   "execution_count": 39,
   "metadata": {},
   "outputs": [
    {
     "name": "stdout",
     "output_type": "stream",
     "text": [
      "60\n",
      "60\n",
      "60\n",
      "60\n",
      "60\n",
      "60\n"
     ]
    }
   ],
   "source": [
    "seq = np.load('seq.npy')\n",
    "\n",
    "acc = []\n",
    "for i in range(6):\n",
    "    \n",
    "    x_train, x_test, y_train, y_test, z_train, z_test = train_test_split(seq[:, i])\n",
    "\n",
    "    voxel_corr_matrix = get_mat(x_train)\n",
    "\n",
    "    corr_arr = []\n",
    "    for i in range(voxel_corr_matrix.shape[0]):\n",
    "        voxel = voxel_corr_matrix[i]\n",
    "        corr = 0.0\n",
    "        for pair in pairs:\n",
    "            corr += np.corrcoef(voxel[pair[0]], voxel[pair[1]])[0, 1]\n",
    "        corr_arr.append(corr/len(pairs))\n",
    "\n",
    "    c_a = np.asarray(corr_arr)\n",
    "    sorted_index = np.argsort(c_a)[::-1]\n",
    "\n",
    "    x_t = x_train[:, sorted_index[:800]]\n",
    "    x_ts = x_test[:, sorted_index[:800]]\n",
    "\n",
    "    clf = LinearSVC()\n",
    "\n",
    "    clf.fit(x_t, y_train)\n",
    "    \n",
    "    results_top = []\n",
    "    for i in [1, 3, 5, 10]:\n",
    "        predicted_correct = 0\n",
    "        for k in range(y_test.shape[0]):\n",
    "            o = x_ts[k]\n",
    "            o = o.reshape(1, -1)\n",
    "            decision_lbl = clf.decision_function(o)[0]\n",
    "            top_class = i\n",
    "            top_n = np.argsort(decision_lbl)[::-1][:top_class]\n",
    "            if y_test[k] in top_n:\n",
    "                predicted_correct += 1.0/60\n",
    "        results_top.append(predicted_correct)\n",
    "    acc.append(results_top)"
   ]
  },
  {
   "cell_type": "code",
   "execution_count": 40,
   "metadata": {},
   "outputs": [
    {
     "name": "stdout",
     "output_type": "stream",
     "text": [
      "[0.51111111 0.74166667 0.83611111 0.92222222]\n",
      "[0.05061352 0.05159493 0.04453117 0.0248452 ]\n"
     ]
    }
   ],
   "source": [
    "print np.average(acc, axis=0)\n",
    "print np.std(acc, axis=0)"
   ]
  },
  {
   "cell_type": "code",
   "execution_count": 5,
   "metadata": {},
   "outputs": [
    {
     "name": "stdout",
     "output_type": "stream",
     "text": [
      "['animal' 'bodypart' 'building' 'buildpart' 'clothing' 'furniture'\n",
      " 'insect' 'kitchen' 'manmade' 'tool' 'vegetable' 'vehicle']\n"
     ]
    }
   ],
   "source": [
    "conds = np.load('leaveoneout/conds_p1.npy')\n",
    "conds = np.unique(conds)\n",
    "print conds"
   ]
  },
  {
   "cell_type": "code",
   "execution_count": 77,
   "metadata": {},
   "outputs": [
    {
     "name": "stdout",
     "output_type": "stream",
     "text": [
      "[array([0.51944444, 0.725     , 0.83888889, 0.91111111])]\n",
      "[array([0.51944444, 0.725     , 0.83888889, 0.91111111]), array([0.525     , 0.72222222, 0.81944444, 0.91388889])]\n",
      "[array([0.51944444, 0.725     , 0.83888889, 0.91111111]), array([0.525     , 0.72222222, 0.81944444, 0.91388889]), array([0.50833333, 0.72777778, 0.81666667, 0.91944444])]\n",
      "[array([0.51944444, 0.725     , 0.83888889, 0.91111111]), array([0.525     , 0.72222222, 0.81944444, 0.91388889]), array([0.50833333, 0.72777778, 0.81666667, 0.91944444]), array([0.49722222, 0.73055556, 0.83888889, 0.91111111])]\n",
      "[array([0.51944444, 0.725     , 0.83888889, 0.91111111]), array([0.525     , 0.72222222, 0.81944444, 0.91388889]), array([0.50833333, 0.72777778, 0.81666667, 0.91944444]), array([0.49722222, 0.73055556, 0.83888889, 0.91111111]), array([0.51666667, 0.70555556, 0.80555556, 0.92222222])]\n",
      "[array([0.51944444, 0.725     , 0.83888889, 0.91111111]), array([0.525     , 0.72222222, 0.81944444, 0.91388889]), array([0.50833333, 0.72777778, 0.81666667, 0.91944444]), array([0.49722222, 0.73055556, 0.83888889, 0.91111111]), array([0.51666667, 0.70555556, 0.80555556, 0.92222222]), array([0.51111111, 0.73055556, 0.83333333, 0.91666667])]\n",
      "[array([0.51944444, 0.725     , 0.83888889, 0.91111111]), array([0.525     , 0.72222222, 0.81944444, 0.91388889]), array([0.50833333, 0.72777778, 0.81666667, 0.91944444]), array([0.49722222, 0.73055556, 0.83888889, 0.91111111]), array([0.51666667, 0.70555556, 0.80555556, 0.92222222]), array([0.51111111, 0.73055556, 0.83333333, 0.91666667]), array([0.49722222, 0.73611111, 0.825     , 0.925     ])]\n",
      "[array([0.51944444, 0.725     , 0.83888889, 0.91111111]), array([0.525     , 0.72222222, 0.81944444, 0.91388889]), array([0.50833333, 0.72777778, 0.81666667, 0.91944444]), array([0.49722222, 0.73055556, 0.83888889, 0.91111111]), array([0.51666667, 0.70555556, 0.80555556, 0.92222222]), array([0.51111111, 0.73055556, 0.83333333, 0.91666667]), array([0.49722222, 0.73611111, 0.825     , 0.925     ]), array([0.50555556, 0.73055556, 0.83888889, 0.91944444])]\n",
      "[array([0.51944444, 0.725     , 0.83888889, 0.91111111]), array([0.525     , 0.72222222, 0.81944444, 0.91388889]), array([0.50833333, 0.72777778, 0.81666667, 0.91944444]), array([0.49722222, 0.73055556, 0.83888889, 0.91111111]), array([0.51666667, 0.70555556, 0.80555556, 0.92222222]), array([0.51111111, 0.73055556, 0.83333333, 0.91666667]), array([0.49722222, 0.73611111, 0.825     , 0.925     ]), array([0.50555556, 0.73055556, 0.83888889, 0.91944444]), array([0.50833333, 0.72222222, 0.81944444, 0.92222222])]\n",
      "[array([0.51944444, 0.725     , 0.83888889, 0.91111111]), array([0.525     , 0.72222222, 0.81944444, 0.91388889]), array([0.50833333, 0.72777778, 0.81666667, 0.91944444]), array([0.49722222, 0.73055556, 0.83888889, 0.91111111]), array([0.51666667, 0.70555556, 0.80555556, 0.92222222]), array([0.51111111, 0.73055556, 0.83333333, 0.91666667]), array([0.49722222, 0.73611111, 0.825     , 0.925     ]), array([0.50555556, 0.73055556, 0.83888889, 0.91944444]), array([0.50833333, 0.72222222, 0.81944444, 0.92222222]), array([0.50555556, 0.73611111, 0.83055556, 0.92777778])]\n",
      "[array([0.51944444, 0.725     , 0.83888889, 0.91111111]), array([0.525     , 0.72222222, 0.81944444, 0.91388889]), array([0.50833333, 0.72777778, 0.81666667, 0.91944444]), array([0.49722222, 0.73055556, 0.83888889, 0.91111111]), array([0.51666667, 0.70555556, 0.80555556, 0.92222222]), array([0.51111111, 0.73055556, 0.83333333, 0.91666667]), array([0.49722222, 0.73611111, 0.825     , 0.925     ]), array([0.50555556, 0.73055556, 0.83888889, 0.91944444]), array([0.50833333, 0.72222222, 0.81944444, 0.92222222]), array([0.50555556, 0.73611111, 0.83055556, 0.92777778]), array([0.51111111, 0.74166667, 0.83055556, 0.91388889])]\n",
      "[array([0.51944444, 0.725     , 0.83888889, 0.91111111]), array([0.525     , 0.72222222, 0.81944444, 0.91388889]), array([0.50833333, 0.72777778, 0.81666667, 0.91944444]), array([0.49722222, 0.73055556, 0.83888889, 0.91111111]), array([0.51666667, 0.70555556, 0.80555556, 0.92222222]), array([0.51111111, 0.73055556, 0.83333333, 0.91666667]), array([0.49722222, 0.73611111, 0.825     , 0.925     ]), array([0.50555556, 0.73055556, 0.83888889, 0.91944444]), array([0.50833333, 0.72222222, 0.81944444, 0.92222222]), array([0.50555556, 0.73611111, 0.83055556, 0.92777778]), array([0.51111111, 0.74166667, 0.83055556, 0.91388889]), array([0.52777778, 0.72777778, 0.82222222, 0.92777778])]\n"
     ]
    }
   ],
   "source": [
    "seq = np.load('seq.npy')\n",
    "conds = np.load('leaveoneout/conds_p1.npy')\n",
    "conds = np.unique(conds)\n",
    "\n",
    "loo_acc = []\n",
    "loo_std = []\n",
    "for c in conds:\n",
    "    acc = []\n",
    "    for i in range(6):\n",
    "        x_train, x_test, y_train, y_test, z_train, z_test = train_test_split(seq[:, i])\n",
    "\n",
    "        indices = [i for i, x in enumerate(z_train) if x == c]\n",
    "\n",
    "        corr_train = np.delete(x_train, indices, 0)\n",
    "\n",
    "        voxel_corr_matrix = get_mat(corr_train)\n",
    "\n",
    "#         print voxel_corr_matrix.shape\n",
    "\n",
    "        corr_arr = []\n",
    "        for i in range(voxel_corr_matrix.shape[0]):\n",
    "            voxel = voxel_corr_matrix[i]\n",
    "            corr = 0.0\n",
    "            for pair in pairs:\n",
    "                corr += np.corrcoef(voxel[pair[0]], voxel[pair[1]])[0, 1]\n",
    "            corr_arr.append(corr/len(pairs))\n",
    "\n",
    "        c_a = np.asarray(corr_arr)\n",
    "        sorted_index = np.argsort(c_a)[::-1]\n",
    "\n",
    "        x_t = x_train[:, sorted_index[:800]]\n",
    "        x_ts = x_test[:, sorted_index[:800]]\n",
    "\n",
    "        clf = LinearSVC()\n",
    "\n",
    "        clf.fit(x_t, y_train)\n",
    "        results_top = []\n",
    "        for i in [1, 3, 5, 10]:\n",
    "            predicted_correct = 0\n",
    "            for k in range(y_test.shape[0]):\n",
    "                o = x_ts[k]\n",
    "                o = o.reshape(1, -1)\n",
    "                decision_lbl = clf.decision_function(o)[0]\n",
    "                top_class = i\n",
    "                top_n = np.argsort(decision_lbl)[::-1][:top_class]\n",
    "                if y_test[k] in top_n:\n",
    "                    predicted_correct += 1.0/60\n",
    "            results_top.append(predicted_correct)\n",
    "        acc.append(results_top)\n",
    "    loo_acc.append(np.average(acc, axis=0))\n",
    "    loo_std.append(np.std(acc, axis=0))\n",
    "    \n",
    "    print loo_acc"
   ]
  },
  {
   "cell_type": "code",
   "execution_count": 78,
   "metadata": {},
   "outputs": [
    {
     "name": "stdout",
     "output_type": "stream",
     "text": [
      "[0.51111111 0.72800926 0.82662037 0.91921296]\n",
      "[0.00928238 0.00874436 0.00998058 0.00572186]\n"
     ]
    }
   ],
   "source": [
    "print np.average(loo_acc, axis=0)\n",
    "print np.std(loo_acc, axis=0)"
   ]
  },
  {
   "cell_type": "code",
   "execution_count": 79,
   "metadata": {},
   "outputs": [
    {
     "name": "stdout",
     "output_type": "stream",
     "text": [
      "[array([0.51944444, 0.72777778, 0.82777778, 0.91666667])]\n",
      "[array([0.51944444, 0.72777778, 0.82777778, 0.91666667]), array([0.525     , 0.72222222, 0.81666667, 0.91111111])]\n",
      "[array([0.51944444, 0.72777778, 0.82777778, 0.91666667]), array([0.525     , 0.72222222, 0.81666667, 0.91111111]), array([0.49444444, 0.73055556, 0.81944444, 0.92222222])]\n",
      "[array([0.51944444, 0.72777778, 0.82777778, 0.91666667]), array([0.525     , 0.72222222, 0.81666667, 0.91111111]), array([0.49444444, 0.73055556, 0.81944444, 0.92222222]), array([0.51111111, 0.73055556, 0.83055556, 0.90833333])]\n",
      "[array([0.51944444, 0.72777778, 0.82777778, 0.91666667]), array([0.525     , 0.72222222, 0.81666667, 0.91111111]), array([0.49444444, 0.73055556, 0.81944444, 0.92222222]), array([0.51111111, 0.73055556, 0.83055556, 0.90833333]), array([0.49444444, 0.70833333, 0.81388889, 0.91388889])]\n",
      "[array([0.51944444, 0.72777778, 0.82777778, 0.91666667]), array([0.525     , 0.72222222, 0.81666667, 0.91111111]), array([0.49444444, 0.73055556, 0.81944444, 0.92222222]), array([0.51111111, 0.73055556, 0.83055556, 0.90833333]), array([0.49444444, 0.70833333, 0.81388889, 0.91388889]), array([0.53333333, 0.73333333, 0.83055556, 0.91666667])]\n",
      "[array([0.51944444, 0.72777778, 0.82777778, 0.91666667]), array([0.525     , 0.72222222, 0.81666667, 0.91111111]), array([0.49444444, 0.73055556, 0.81944444, 0.92222222]), array([0.51111111, 0.73055556, 0.83055556, 0.90833333]), array([0.49444444, 0.70833333, 0.81388889, 0.91388889]), array([0.53333333, 0.73333333, 0.83055556, 0.91666667]), array([0.525     , 0.73055556, 0.81944444, 0.925     ])]\n",
      "[array([0.51944444, 0.72777778, 0.82777778, 0.91666667]), array([0.525     , 0.72222222, 0.81666667, 0.91111111]), array([0.49444444, 0.73055556, 0.81944444, 0.92222222]), array([0.51111111, 0.73055556, 0.83055556, 0.90833333]), array([0.49444444, 0.70833333, 0.81388889, 0.91388889]), array([0.53333333, 0.73333333, 0.83055556, 0.91666667]), array([0.525     , 0.73055556, 0.81944444, 0.925     ]), array([0.51666667, 0.72222222, 0.83055556, 0.91666667])]\n",
      "[array([0.51944444, 0.72777778, 0.82777778, 0.91666667]), array([0.525     , 0.72222222, 0.81666667, 0.91111111]), array([0.49444444, 0.73055556, 0.81944444, 0.92222222]), array([0.51111111, 0.73055556, 0.83055556, 0.90833333]), array([0.49444444, 0.70833333, 0.81388889, 0.91388889]), array([0.53333333, 0.73333333, 0.83055556, 0.91666667]), array([0.525     , 0.73055556, 0.81944444, 0.925     ]), array([0.51666667, 0.72222222, 0.83055556, 0.91666667]), array([0.52222222, 0.74166667, 0.83055556, 0.925     ])]\n",
      "[array([0.51944444, 0.72777778, 0.82777778, 0.91666667]), array([0.525     , 0.72222222, 0.81666667, 0.91111111]), array([0.49444444, 0.73055556, 0.81944444, 0.92222222]), array([0.51111111, 0.73055556, 0.83055556, 0.90833333]), array([0.49444444, 0.70833333, 0.81388889, 0.91388889]), array([0.53333333, 0.73333333, 0.83055556, 0.91666667]), array([0.525     , 0.73055556, 0.81944444, 0.925     ]), array([0.51666667, 0.72222222, 0.83055556, 0.91666667]), array([0.52222222, 0.74166667, 0.83055556, 0.925     ]), array([0.51388889, 0.73055556, 0.81666667, 0.91944444])]\n",
      "[array([0.51944444, 0.72777778, 0.82777778, 0.91666667]), array([0.525     , 0.72222222, 0.81666667, 0.91111111]), array([0.49444444, 0.73055556, 0.81944444, 0.92222222]), array([0.51111111, 0.73055556, 0.83055556, 0.90833333]), array([0.49444444, 0.70833333, 0.81388889, 0.91388889]), array([0.53333333, 0.73333333, 0.83055556, 0.91666667]), array([0.525     , 0.73055556, 0.81944444, 0.925     ]), array([0.51666667, 0.72222222, 0.83055556, 0.91666667]), array([0.52222222, 0.74166667, 0.83055556, 0.925     ]), array([0.51388889, 0.73055556, 0.81666667, 0.91944444]), array([0.55      , 0.74722222, 0.82777778, 0.91666667])]\n",
      "[array([0.51944444, 0.72777778, 0.82777778, 0.91666667]), array([0.525     , 0.72222222, 0.81666667, 0.91111111]), array([0.49444444, 0.73055556, 0.81944444, 0.92222222]), array([0.51111111, 0.73055556, 0.83055556, 0.90833333]), array([0.49444444, 0.70833333, 0.81388889, 0.91388889]), array([0.53333333, 0.73333333, 0.83055556, 0.91666667]), array([0.525     , 0.73055556, 0.81944444, 0.925     ]), array([0.51666667, 0.72222222, 0.83055556, 0.91666667]), array([0.52222222, 0.74166667, 0.83055556, 0.925     ]), array([0.51388889, 0.73055556, 0.81666667, 0.91944444]), array([0.55      , 0.74722222, 0.82777778, 0.91666667]), array([0.53888889, 0.71944444, 0.83611111, 0.91388889])]\n"
     ]
    }
   ],
   "source": [
    "shuffle = np.load('shuffle.npy')\n",
    "conds = np.load('leaveoneout/conds_p1.npy')\n",
    "conds = np.unique(conds)\n",
    "\n",
    "loo_acc = []\n",
    "loo_std = []\n",
    "for c in conds:\n",
    "    acc = []\n",
    "    for i in range(6):\n",
    "        x_train, x_test, y_train, y_test, z_train, z_test = train_test_split(shuffle[:, i])\n",
    "\n",
    "        indices = [i for i, x in enumerate(z_train) if x == c]\n",
    "\n",
    "        corr_train = np.delete(x_train, indices, 0)\n",
    "\n",
    "        voxel_corr_matrix = get_mat(corr_train)\n",
    "\n",
    "#         print voxel_corr_matrix.shape\n",
    "\n",
    "        corr_arr = []\n",
    "        for i in range(voxel_corr_matrix.shape[0]):\n",
    "            voxel = voxel_corr_matrix[i]\n",
    "            corr = 0.0\n",
    "            for pair in pairs:\n",
    "                corr += np.corrcoef(voxel[pair[0]], voxel[pair[1]])[0, 1]\n",
    "            corr_arr.append(corr/len(pairs))\n",
    "\n",
    "        c_a = np.asarray(corr_arr)\n",
    "        sorted_index = np.argsort(c_a)[::-1]\n",
    "\n",
    "        x_t = x_train[:, sorted_index[:800]]\n",
    "        x_ts = x_test[:, sorted_index[:800]]\n",
    "\n",
    "        clf = LinearSVC()\n",
    "\n",
    "        clf.fit(x_t, y_train)\n",
    "        results_top = []\n",
    "        for i in [1, 3, 5, 10]:\n",
    "            predicted_correct = 0\n",
    "            for k in range(y_test.shape[0]):\n",
    "                o = x_ts[k]\n",
    "                o = o.reshape(1, -1)\n",
    "                decision_lbl = clf.decision_function(o)[0]\n",
    "                top_class = i\n",
    "                top_n = np.argsort(decision_lbl)[::-1][:top_class]\n",
    "                if y_test[k] in top_n:\n",
    "                    predicted_correct += 1.0/60\n",
    "            results_top.append(predicted_correct)\n",
    "        acc.append(results_top)\n",
    "    loo_acc.append(np.average(acc, axis=0))\n",
    "    loo_std.append(np.std(acc, axis=0))\n",
    "    \n",
    "    print loo_acc"
   ]
  },
  {
   "cell_type": "code",
   "execution_count": 80,
   "metadata": {},
   "outputs": [
    {
     "name": "stdout",
     "output_type": "stream",
     "text": [
      "[0.52037037 0.7287037  0.825      0.91712963]\n",
      "[0.01560398 0.00971119 0.00699059 0.00492136]\n"
     ]
    }
   ],
   "source": [
    "print np.average(loo_acc, axis=0)\n",
    "print np.std(loo_acc, axis=0)"
   ]
  },
  {
   "cell_type": "code",
   "execution_count": 49,
   "metadata": {},
   "outputs": [],
   "source": [
    "shuffle_indices = []\n",
    "for i in range(60):\n",
    "    index = np.array([0, 1, 2, 3, 4])\n",
    "    random.shuffle(index)\n",
    "    shuffle_indices.append(index + 5*i)"
   ]
  },
  {
   "cell_type": "code",
   "execution_count": null,
   "metadata": {},
   "outputs": [],
   "source": []
  },
  {
   "cell_type": "code",
   "execution_count": 57,
   "metadata": {},
   "outputs": [],
   "source": [
    "si = np.asarray(shuffle_indices)"
   ]
  },
  {
   "cell_type": "code",
   "execution_count": 65,
   "metadata": {},
   "outputs": [
    {
     "data": {
      "text/plain": [
       "(60,)"
      ]
     },
     "execution_count": 65,
     "metadata": {},
     "output_type": "execute_result"
    }
   ],
   "source": [
    "si[:, 0].shape"
   ]
  },
  {
   "cell_type": "code",
   "execution_count": 61,
   "metadata": {},
   "outputs": [],
   "source": [
    "x_train, x_test, y_train, y_test, z_train, z_test = train_test_split(shuffle[:, 0])"
   ]
  },
  {
   "cell_type": "code",
   "execution_count": 67,
   "metadata": {},
   "outputs": [
    {
     "name": "stdout",
     "output_type": "stream",
     "text": [
      "(60, 21764)\n"
     ]
    }
   ],
   "source": [
    "corr_train = x_train[si[:, 0]]\n",
    "\n",
    "print corr_train.shape"
   ]
  },
  {
   "cell_type": "code",
   "execution_count": 4,
   "metadata": {},
   "outputs": [
    {
     "ename": "NameError",
     "evalue": "name 'corr_train' is not defined",
     "output_type": "error",
     "traceback": [
      "\u001b[0;31m---------------------------------------------------------------------------\u001b[0m",
      "\u001b[0;31mNameError\u001b[0m                                 Traceback (most recent call last)",
      "\u001b[0;32m<ipython-input-4-9938c6a33f05>\u001b[0m in \u001b[0;36m<module>\u001b[0;34m()\u001b[0m\n\u001b[0;32m----> 1\u001b[0;31m \u001b[0mvoxel_corr_matrix\u001b[0m \u001b[0;34m=\u001b[0m \u001b[0mget_mat\u001b[0m\u001b[0;34m(\u001b[0m\u001b[0mcorr_train\u001b[0m\u001b[0;34m)\u001b[0m\u001b[0;34m\u001b[0m\u001b[0m\n\u001b[0m\u001b[1;32m      2\u001b[0m \u001b[0;34m\u001b[0m\u001b[0m\n\u001b[1;32m      3\u001b[0m \u001b[0mvoxel_corr_matrix\u001b[0m\u001b[0;34m.\u001b[0m\u001b[0mshape\u001b[0m\u001b[0;34m\u001b[0m\u001b[0m\n\u001b[1;32m      4\u001b[0m \u001b[0;34m\u001b[0m\u001b[0m\n\u001b[1;32m      5\u001b[0m \u001b[0mcorr_arr\u001b[0m \u001b[0;34m=\u001b[0m \u001b[0;34m[\u001b[0m\u001b[0;34m]\u001b[0m\u001b[0;34m\u001b[0m\u001b[0m\n",
      "\u001b[0;31mNameError\u001b[0m: name 'corr_train' is not defined"
     ]
    }
   ],
   "source": [
    "voxel_corr_matrix = get_mat(corr_train)\n",
    "\n",
    "voxel_corr_matrix.shape\n",
    "\n",
    "corr_arr = []\n",
    "for i in range(voxel_corr_matrix.shape[0]):\n",
    "    voxel = voxel_corr_matrix[i]\n",
    "    corr = 0.0\n",
    "    for pair in pairs:\n",
    "        corr += np.corrcoef(voxel[pair[0]], voxel[pair[1]])[0, 1]\n",
    "    corr_arr.append(corr/len(pairs))\n",
    "\n",
    "c_a = np.asarray(corr_arr)\n",
    "sorted_index = np.argsort(c_a)[::-1]"
   ]
  },
  {
   "cell_type": "code",
   "execution_count": 69,
   "metadata": {},
   "outputs": [
    {
     "ename": "KeyboardInterrupt",
     "evalue": "",
     "output_type": "error",
     "traceback": [
      "\u001b[0;31m---------------------------------------------------------------------------\u001b[0m",
      "\u001b[0;31mKeyboardInterrupt\u001b[0m                         Traceback (most recent call last)",
      "\u001b[0;32m<ipython-input-69-c4b6bb5c4632>\u001b[0m in \u001b[0;36m<module>\u001b[0;34m()\u001b[0m\n\u001b[1;32m     15\u001b[0m \u001b[0mclf\u001b[0m \u001b[0;34m=\u001b[0m \u001b[0mLinearSVC\u001b[0m\u001b[0;34m(\u001b[0m\u001b[0;34m)\u001b[0m\u001b[0;34m\u001b[0m\u001b[0m\n\u001b[1;32m     16\u001b[0m \u001b[0;34m\u001b[0m\u001b[0m\n\u001b[0;32m---> 17\u001b[0;31m \u001b[0mclf\u001b[0m\u001b[0;34m.\u001b[0m\u001b[0mfit\u001b[0m\u001b[0;34m(\u001b[0m\u001b[0mx_t\u001b[0m\u001b[0;34m,\u001b[0m \u001b[0my_train\u001b[0m\u001b[0;34m)\u001b[0m\u001b[0;34m\u001b[0m\u001b[0m\n\u001b[0m\u001b[1;32m     18\u001b[0m \u001b[0mresults_top\u001b[0m \u001b[0;34m=\u001b[0m \u001b[0;34m[\u001b[0m\u001b[0;34m]\u001b[0m\u001b[0;34m\u001b[0m\u001b[0m\n\u001b[1;32m     19\u001b[0m \u001b[0;32mfor\u001b[0m \u001b[0mi\u001b[0m \u001b[0;32min\u001b[0m \u001b[0;34m[\u001b[0m\u001b[0;36m1\u001b[0m\u001b[0;34m,\u001b[0m \u001b[0;36m3\u001b[0m\u001b[0;34m,\u001b[0m \u001b[0;36m5\u001b[0m\u001b[0;34m,\u001b[0m \u001b[0;36m10\u001b[0m\u001b[0;34m]\u001b[0m\u001b[0;34m:\u001b[0m\u001b[0;34m\u001b[0m\u001b[0m\n",
      "\u001b[0;32m/Users/piyush.kumar/abc/lib/python2.7/site-packages/sklearn/svm/classes.pyc\u001b[0m in \u001b[0;36mfit\u001b[0;34m(self, X, y, sample_weight)\u001b[0m\n\u001b[1;32m    233\u001b[0m             \u001b[0mself\u001b[0m\u001b[0;34m.\u001b[0m\u001b[0mclass_weight\u001b[0m\u001b[0;34m,\u001b[0m \u001b[0mself\u001b[0m\u001b[0;34m.\u001b[0m\u001b[0mpenalty\u001b[0m\u001b[0;34m,\u001b[0m \u001b[0mself\u001b[0m\u001b[0;34m.\u001b[0m\u001b[0mdual\u001b[0m\u001b[0;34m,\u001b[0m \u001b[0mself\u001b[0m\u001b[0;34m.\u001b[0m\u001b[0mverbose\u001b[0m\u001b[0;34m,\u001b[0m\u001b[0;34m\u001b[0m\u001b[0m\n\u001b[1;32m    234\u001b[0m             \u001b[0mself\u001b[0m\u001b[0;34m.\u001b[0m\u001b[0mmax_iter\u001b[0m\u001b[0;34m,\u001b[0m \u001b[0mself\u001b[0m\u001b[0;34m.\u001b[0m\u001b[0mtol\u001b[0m\u001b[0;34m,\u001b[0m \u001b[0mself\u001b[0m\u001b[0;34m.\u001b[0m\u001b[0mrandom_state\u001b[0m\u001b[0;34m,\u001b[0m \u001b[0mself\u001b[0m\u001b[0;34m.\u001b[0m\u001b[0mmulti_class\u001b[0m\u001b[0;34m,\u001b[0m\u001b[0;34m\u001b[0m\u001b[0m\n\u001b[0;32m--> 235\u001b[0;31m             self.loss, sample_weight=sample_weight)\n\u001b[0m\u001b[1;32m    236\u001b[0m \u001b[0;34m\u001b[0m\u001b[0m\n\u001b[1;32m    237\u001b[0m         \u001b[0;32mif\u001b[0m \u001b[0mself\u001b[0m\u001b[0;34m.\u001b[0m\u001b[0mmulti_class\u001b[0m \u001b[0;34m==\u001b[0m \u001b[0;34m\"crammer_singer\"\u001b[0m \u001b[0;32mand\u001b[0m \u001b[0mlen\u001b[0m\u001b[0;34m(\u001b[0m\u001b[0mself\u001b[0m\u001b[0;34m.\u001b[0m\u001b[0mclasses_\u001b[0m\u001b[0;34m)\u001b[0m \u001b[0;34m==\u001b[0m \u001b[0;36m2\u001b[0m\u001b[0;34m:\u001b[0m\u001b[0;34m\u001b[0m\u001b[0m\n",
      "\u001b[0;32m/Users/piyush.kumar/abc/lib/python2.7/site-packages/sklearn/svm/base.pyc\u001b[0m in \u001b[0;36m_fit_liblinear\u001b[0;34m(X, y, C, fit_intercept, intercept_scaling, class_weight, penalty, dual, verbose, max_iter, tol, random_state, multi_class, loss, epsilon, sample_weight)\u001b[0m\n\u001b[1;32m    888\u001b[0m         \u001b[0mX\u001b[0m\u001b[0;34m,\u001b[0m \u001b[0my_ind\u001b[0m\u001b[0;34m,\u001b[0m \u001b[0msp\u001b[0m\u001b[0;34m.\u001b[0m\u001b[0misspmatrix\u001b[0m\u001b[0;34m(\u001b[0m\u001b[0mX\u001b[0m\u001b[0;34m)\u001b[0m\u001b[0;34m,\u001b[0m \u001b[0msolver_type\u001b[0m\u001b[0;34m,\u001b[0m \u001b[0mtol\u001b[0m\u001b[0;34m,\u001b[0m \u001b[0mbias\u001b[0m\u001b[0;34m,\u001b[0m \u001b[0mC\u001b[0m\u001b[0;34m,\u001b[0m\u001b[0;34m\u001b[0m\u001b[0m\n\u001b[1;32m    889\u001b[0m         \u001b[0mclass_weight_\u001b[0m\u001b[0;34m,\u001b[0m \u001b[0mmax_iter\u001b[0m\u001b[0;34m,\u001b[0m \u001b[0mrnd\u001b[0m\u001b[0;34m.\u001b[0m\u001b[0mrandint\u001b[0m\u001b[0;34m(\u001b[0m\u001b[0mnp\u001b[0m\u001b[0;34m.\u001b[0m\u001b[0miinfo\u001b[0m\u001b[0;34m(\u001b[0m\u001b[0;34m'i'\u001b[0m\u001b[0;34m)\u001b[0m\u001b[0;34m.\u001b[0m\u001b[0mmax\u001b[0m\u001b[0;34m)\u001b[0m\u001b[0;34m,\u001b[0m\u001b[0;34m\u001b[0m\u001b[0m\n\u001b[0;32m--> 890\u001b[0;31m         epsilon, sample_weight)\n\u001b[0m\u001b[1;32m    891\u001b[0m     \u001b[0;31m# Regarding rnd.randint(..) in the above signature:\u001b[0m\u001b[0;34m\u001b[0m\u001b[0;34m\u001b[0m\u001b[0m\n\u001b[1;32m    892\u001b[0m     \u001b[0;31m# seed for srand in range [0..INT_MAX); due to limitations in Numpy\u001b[0m\u001b[0;34m\u001b[0m\u001b[0;34m\u001b[0m\u001b[0m\n",
      "\u001b[0;31mKeyboardInterrupt\u001b[0m: "
     ]
    }
   ],
   "source": [
    "    corr_arr = []\n",
    "    for i in range(voxel_corr_matrix.shape[0]):\n",
    "        voxel = voxel_corr_matrix[i]\n",
    "        corr = 0.0\n",
    "        for pair in pairs:\n",
    "            corr += np.corrcoef(voxel[pair[0]], voxel[pair[1]])[0, 1]\n",
    "        corr_arr.append(corr/len(pairs))\n",
    "\n",
    "    c_a = np.asarray(corr_arr)\n",
    "    sorted_index = np.argsort(c_a)[::-1]\n",
    "\n",
    "    x_t = x_train[:, sorted_index[:800]]\n",
    "    x_ts = x_test[:, sorted_index[:800]]\n",
    "\n",
    "    clf = LinearSVC()\n",
    "\n",
    "    clf.fit(x_t, y_train)\n",
    "    results_top = []\n",
    "    for i in [1, 3, 5, 10]:\n",
    "        predicted_correct = 0\n",
    "        for k in range(y_test.shape[0]):\n",
    "            o = x_ts[k]\n",
    "            o = o.reshape(1, -1)\n",
    "            decision_lbl = clf.decision_function(o)[0]\n",
    "            top_class = i\n",
    "            top_n = np.argsort(decision_lbl)[::-1][:top_class]\n",
    "            if y_test[k] in top_n:\n",
    "                predicted_correct += 1.0/60\n",
    "        results_top.append(predicted_correct)\n",
    "    print results_top"
   ]
  },
  {
   "cell_type": "code",
   "execution_count": 113,
   "metadata": {},
   "outputs": [
    {
     "name": "stdout",
     "output_type": "stream",
     "text": [
      "25\n",
      "25\n",
      "25\n",
      "25\n",
      "25\n",
      "25\n"
     ]
    }
   ],
   "source": [
    "seq = np.load('shuffle.npy')\n",
    "conds = np.load('leaveoneout/conds_p1.npy')\n",
    "conds = np.unique(conds)\n",
    "\n",
    "acc = []\n",
    "for i in range(6):\n",
    "    x_train, x_test, y_train, y_test, z_train, z_test = train_test_split(seq[:, i])\n",
    "\n",
    "    rand_smpl = [conds[i] for i in random.sample(xrange(len(conds)), 1)]\n",
    "\n",
    "    indices = []\n",
    "    for r in rand_smpl:\n",
    "        indices += [i for i, x in enumerate(z_train) if x == r]\n",
    "\n",
    "    print len(indices)\n",
    "    \n",
    "    corr_train = x_train[indices]\n",
    "    voxel_corr_matrix = get_mat(corr_train)\n",
    "\n",
    "#         print voxel_corr_matrix.shape\n",
    "\n",
    "    corr_arr = []\n",
    "    for i in range(voxel_corr_matrix.shape[0]):\n",
    "        voxel = voxel_corr_matrix[i]\n",
    "        corr = 0.0\n",
    "        for pair in pairs:\n",
    "            corr += np.corrcoef(voxel[pair[0]], voxel[pair[1]])[0, 1]\n",
    "        corr_arr.append(corr/len(pairs))\n",
    "\n",
    "    c_a = np.asarray(corr_arr)\n",
    "    sorted_index = np.argsort(c_a)[::-1]\n",
    "\n",
    "    x_t = x_train[:, sorted_index[:800]]\n",
    "    x_ts = x_test[:, sorted_index[:800]]\n",
    "\n",
    "    clf = LinearSVC()\n",
    "\n",
    "    clf.fit(x_t, y_train)\n",
    "    results_top = []\n",
    "    for i in [1, 3, 5, 10]:\n",
    "        predicted_correct = 0\n",
    "        for k in range(y_test.shape[0]):\n",
    "            o = x_ts[k]\n",
    "            o = o.reshape(1, -1)\n",
    "            decision_lbl = clf.decision_function(o)[0]\n",
    "            top_class = i\n",
    "            top_n = np.argsort(decision_lbl)[::-1][:top_class]\n",
    "            if y_test[k] in top_n:\n",
    "                predicted_correct += 1.0/60\n",
    "        results_top.append(predicted_correct)\n",
    "    acc.append(results_top)"
   ]
  },
  {
   "cell_type": "code",
   "execution_count": 114,
   "metadata": {},
   "outputs": [
    {
     "name": "stdout",
     "output_type": "stream",
     "text": [
      "[0.26666667 0.45555556 0.59166667 0.73055556]\n",
      "[0.05270463 0.01571348 0.0356812  0.0310565 ]\n"
     ]
    }
   ],
   "source": [
    "print np.average(acc, axis=0)\n",
    "print np.std(acc, axis=0)"
   ]
  },
  {
   "cell_type": "code",
   "execution_count": 85,
   "metadata": {},
   "outputs": [],
   "source": [
    "conds = np.load('leaveoneout/conds_p1.npy')\n",
    "conds = np.unique(conds)"
   ]
  },
  {
   "cell_type": "code",
   "execution_count": 97,
   "metadata": {},
   "outputs": [
    {
     "name": "stdout",
     "output_type": "stream",
     "text": [
      "['animal', 'clothing', 'bodypart', 'building']\n"
     ]
    }
   ],
   "source": [
    "rand_smpl = [conds[i] for i in random.sample(xrange(len(conds)), 4)]\n",
    "print rand_smpl"
   ]
  },
  {
   "cell_type": "code",
   "execution_count": 98,
   "metadata": {},
   "outputs": [],
   "source": [
    "x_train, x_test, y_train, y_test, z_train, z_test = train_test_split(seq[:, 0])"
   ]
  },
  {
   "cell_type": "code",
   "execution_count": 101,
   "metadata": {},
   "outputs": [],
   "source": [
    "indices = []\n",
    "for r in rand_smpl:\n",
    "    indices += [i for i, x in enumerate(z_train) if x == r]"
   ]
  },
  {
   "cell_type": "code",
   "execution_count": 105,
   "metadata": {},
   "outputs": [
    {
     "name": "stdout",
     "output_type": "stream",
     "text": [
      "100\n"
     ]
    }
   ],
   "source": [
    "indices = sorted(indices)\n",
    "print len(indices)"
   ]
  },
  {
   "cell_type": "code",
   "execution_count": null,
   "metadata": {},
   "outputs": [],
   "source": []
  }
 ],
 "metadata": {
  "kernelspec": {
   "display_name": "Python 3",
   "language": "python",
   "name": "python3"
  },
  "language_info": {
   "codemirror_mode": {
    "name": "ipython",
    "version": 3
   },
   "file_extension": ".py",
   "mimetype": "text/x-python",
   "name": "python",
   "nbconvert_exporter": "python",
   "pygments_lexer": "ipython3",
   "version": "3.6.8"
  }
 },
 "nbformat": 4,
 "nbformat_minor": 4
}
