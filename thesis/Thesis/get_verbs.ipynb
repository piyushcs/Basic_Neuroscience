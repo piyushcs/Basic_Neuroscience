{
 "cells": [
  {
   "cell_type": "code",
   "execution_count": 12,
   "metadata": {},
   "outputs": [],
   "source": [
    "import urllib2\n",
    "import numpy\n",
    "from scipy.io import loadmat\n",
    "from bs4 import BeautifulSoup\n",
    "import numpy as np"
   ]
  },
  {
   "cell_type": "code",
   "execution_count": 13,
   "metadata": {},
   "outputs": [],
   "source": [
    "quote_page = 'http://www.cs.cmu.edu/~tom/science2008/semanticFeatureVectors.html'"
   ]
  },
  {
   "cell_type": "code",
   "execution_count": 14,
   "metadata": {},
   "outputs": [],
   "source": [
    "page = urllib2.urlopen(quote_page)"
   ]
  },
  {
   "cell_type": "code",
   "execution_count": 15,
   "metadata": {},
   "outputs": [],
   "source": [
    "soup = BeautifulSoup(page, 'html.parser')"
   ]
  },
  {
   "cell_type": "code",
   "execution_count": 16,
   "metadata": {},
   "outputs": [],
   "source": [
    "label_data = soup.find_all('a')\n",
    "\n",
    "labels = []\n",
    "for l in label_data:\n",
    "    attr = l.attrs\n",
    "    if 'name' in attr and l['name'] != 'top':\n",
    "        labels.append(l['name'])"
   ]
  },
  {
   "cell_type": "code",
   "execution_count": 17,
   "metadata": {
    "scrolled": true
   },
   "outputs": [],
   "source": [
    "verbs_data = soup.find_all('ul')\n",
    "v = verbs_data[0]"
   ]
  },
  {
   "cell_type": "code",
   "execution_count": 18,
   "metadata": {},
   "outputs": [
    {
     "name": "stdout",
     "output_type": "stream",
     "text": [
      "{u'taste': 0.0, u'move': 0.0, u'say': 0.0, u'touch': 0.0, u'fear': 0.0, u'open': 0.0, u'manipulate': 0.0, u'fill': 0.0, u'neared': 0.0, u'approach': 0.0, u'listen': 0.0, u'run': 0.0, u'see': 0.0, u'rub': 0.0, u'break': 0.0, u'lift': 0.0, u'hear': 0.0, u'wear': 0.0, u'eat': 0.0, u'smell': 0.0, u'ride': 0.0, u'drive': 0.0, u'clean': 0.0, u'enter': 0.0, u'push': 0.0}\n"
     ]
    }
   ],
   "source": [
    "vrbd = dict()\n",
    "for v in verbs_data[:1]:\n",
    "    vrb = v.text.split('\\n')[1:-1]\n",
    "    for vr in vrb:\n",
    "        vrbd[vr.split()[0]] = float(0.0)\n",
    "print vrbd"
   ]
  },
  {
   "cell_type": "code",
   "execution_count": 19,
   "metadata": {},
   "outputs": [
    {
     "name": "stdout",
     "output_type": "stream",
     "text": [
      "{u'taste': 0.486, u'move': 0.054, u'say': 0.52, u'touch': 0.07, u'fear': 0.013, u'open': 0.19, u'manipulate': 0.0, u'fill': 0.031, u'neared': 0.167, u'approach': 0.041, u'listen': 0.041, u'run': 0.181, u'see': 0.52, u'rub': 0.018, u'break': 0.069, u'lift': 0.018, u'hear': 0.143, u'wear': 0.214, u'eat': 0.158, u'smell': 0.018, u'ride': 0.079, u'drive': 0.085, u'clean': 0.024, u'enter': 0.054, u'push': 0.011}\n",
      "{u'taste': 0.027, u'move': 0.088, u'say': 0.592, u'touch': 0.075, u'fear': 0.041, u'open': 0.175, u'manipulate': 0.002, u'fill': 0.031, u'neared': 0.069, u'approach': 0.028, u'listen': 0.075, u'run': 0.303, u'see': 0.449, u'rub': 0.022, u'break': 0.033, u'lift': 0.041, u'hear': 0.208, u'wear': 0.048, u'eat': 0.435, u'smell': 0.163, u'ride': 0.052, u'drive': 0.053, u'clean': 0.146, u'enter': 0.068, u'push': 0.031}\n",
      "{u'taste': 0.027, u'move': 0.045, u'say': 0.0, u'touch': 0.08, u'fear': 0.367, u'open': 0.056, u'manipulate': 0.0, u'fill': 0.048, u'neared': 0.115, u'approach': 0.014, u'listen': 0.023, u'run': 0.261, u'see': 0.205, u'rub': 0.04, u'break': 0.027, u'lift': 0.013, u'hear': 0.061, u'wear': 0.025, u'eat': 0.421, u'smell': 0.073, u'ride': 0.067, u'drive': 0.042, u'clean': 0.039, u'enter': 0.043, u'push': 0.009}\n",
      "{u'taste': 0.018, u'move': 0.079, u'say': 0.294, u'touch': 0.023, u'fear': 0.015, u'open': 0.105, u'manipulate': 0.0, u'fill': 0.02, u'neared': 0.097, u'approach': 0.031, u'listen': 0.022, u'run': 0.301, u'see': 0.46, u'rub': 0.004, u'break': 0.06, u'lift': 0.014, u'hear': 0.075, u'wear': 0.049, u'eat': 0.742, u'smell': 0.062, u'ride': 0.054, u'drive': 0.042, u'clean': 0.072, u'enter': 0.078, u'push': 0.011}\n",
      "{u'taste': 0.005, u'move': 0.054, u'say': 0.119, u'touch': 0.013, u'fear': 0.023, u'open': 0.092, u'manipulate': 0.0, u'fill': 0.017, u'neared': 0.053, u'approach': 0.012, u'listen': 0.003, u'run': 0.128, u'see': 0.123, u'rub': 0.002, u'break': 0.039, u'lift': 0.009, u'hear': 0.03, u'wear': 0.052, u'eat': 0.082, u'smell': 0.017, u'ride': 0.961, u'drive': 0.05, u'clean': 0.01, u'enter': 0.034, u'push': 0.012}\n",
      "{u'taste': 0.002, u'move': 0.441, u'say': 0.45, u'touch': 0.206, u'fear': 0.005, u'open': 0.147, u'manipulate': 0.003, u'fill': 0.026, u'neared': 0.079, u'approach': 0.019, u'listen': 0.006, u'run': 0.103, u'see': 0.132, u'rub': 0.03, u'break': 0.432, u'lift': 0.548, u'hear': 0.007, u'wear': 0.048, u'eat': 0.008, u'smell': 0.001, u'ride': 0.01, u'drive': 0.071, u'clean': 0.021, u'enter': 0.024, u'push': 0.084}\n",
      "{u'taste': 0.006, u'move': 0.042, u'say': 0.187, u'touch': 0.029, u'fear': 0.022, u'open': 0.328, u'manipulate': 0.001, u'fill': 0.042, u'neared': 0.059, u'approach': 0.009, u'listen': 0.004, u'run': 0.025, u'see': 0.794, u'rub': 0.011, u'break': 0.027, u'lift': 0.105, u'hear': 0.011, u'wear': 0.3, u'eat': 0.011, u'smell': 0.003, u'ride': 0.325, u'drive': 0.007, u'clean': 0.095, u'enter': 0.034, u'push': 0.008}\n",
      "{u'taste': 0.007, u'move': 0.282, u'say': 0.243, u'touch': 0.153, u'fear': 0.034, u'open': 0.388, u'manipulate': 0.0, u'fill': 0.039, u'neared': 0.212, u'approach': 0.054, u'listen': 0.001, u'run': 0.131, u'see': 0.265, u'rub': 0.105, u'break': 0.481, u'lift': 0.229, u'hear': 0.036, u'wear': 0.478, u'eat': 0.016, u'smell': 0.009, u'ride': 0.051, u'drive': 0.097, u'clean': 0.032, u'enter': 0.038, u'push': 0.092}\n",
      "{u'taste': 0.009, u'move': 0.319, u'say': 0.508, u'touch': 0.299, u'fear': 0.029, u'open': 0.309, u'manipulate': 0.01, u'fill': 0.077, u'neared': 0.173, u'approach': 0.031, u'listen': 0.008, u'run': 0.205, u'see': 0.47, u'rub': 0.166, u'break': 0.068, u'lift': 0.153, u'hear': 0.082, u'wear': 0.031, u'eat': 0.028, u'smell': 0.006, u'ride': 0.016, u'drive': 0.262, u'clean': 0.069, u'enter': 0.061, u'push': 0.11}\n",
      "{u'taste': 0.001, u'move': 0.125, u'say': 0.129, u'touch': 0.046, u'fear': 0.001, u'open': 0.279, u'manipulate': 0.0, u'fill': 0.01, u'neared': 0.031, u'approach': 0.008, u'listen': 0.0, u'run': 0.111, u'see': 0.07, u'rub': 0.034, u'break': 0.821, u'lift': 0.427, u'hear': 0.003, u'wear': 0.091, u'eat': 0.011, u'smell': 0.003, u'ride': 0.011, u'drive': 0.047, u'clean': 0.018, u'enter': 0.013, u'push': 0.038}\n",
      "{u'taste': 0.0, u'move': 0.654, u'say': 0.093, u'touch': 0.002, u'fear': 0.002, u'open': 0.122, u'manipulate': 0.0, u'fill': 0.08, u'neared': 0.619, u'approach': 0.009, u'listen': 0.004, u'run': 0.075, u'see': 0.2, u'rub': 0.0, u'break': 0.064, u'lift': 0.024, u'hear': 0.021, u'wear': 0.0, u'eat': 0.012, u'smell': 0.036, u'ride': 0.007, u'drive': 0.07, u'clean': 0.238, u'enter': 0.21, u'push': 0.002}\n",
      "{u'taste': 0.0, u'move': 0.055, u'say': 0.71, u'touch': 0.004, u'fear': 0.002, u'open': 0.485, u'manipulate': 0.0, u'fill': 0.094, u'neared': 0.436, u'approach': 0.009, u'listen': 0.003, u'run': 0.092, u'see': 0.148, u'rub': 0.001, u'break': 0.008, u'lift': 0.025, u'hear': 0.021, u'wear': 0.104, u'eat': 0.006, u'smell': 0.025, u'ride': 0.041, u'drive': 0.037, u'clean': 0.054, u'enter': 0.099, u'push': 0.0}\n",
      "{u'taste': 0.001, u'move': 0.112, u'say': 0.762, u'touch': 0.01, u'fear': 0.025, u'open': 0.265, u'manipulate': 0.0, u'fill': 0.071, u'neared': 0.325, u'approach': 0.033, u'listen': 0.025, u'run': 0.143, u'see': 0.395, u'rub': 0.0, u'break': 0.042, u'lift': 0.004, u'hear': 0.101, u'wear': 0.022, u'eat': 0.005, u'smell': 0.001, u'ride': 0.019, u'drive': 0.099, u'clean': 0.018, u'enter': 0.153, u'push': 0.005}\n",
      "{u'taste': 0.002, u'move': 0.224, u'say': 0.27, u'touch': 0.005, u'fear': 0.011, u'open': 0.837, u'manipulate': 0.001, u'fill': 0.044, u'neared': 0.21, u'approach': 0.016, u'listen': 0.013, u'run': 0.223, u'see': 0.148, u'rub': 0.0, u'break': 0.108, u'lift': 0.007, u'hear': 0.035, u'wear': 0.011, u'eat': 0.018, u'smell': 0.012, u'ride': 0.013, u'drive': 0.058, u'clean': 0.166, u'enter': 0.114, u'push': 0.009}\n",
      "{u'taste': 0.0, u'move': 0.0, u'say': 0.204, u'touch': 0.0, u'fear': 0.0, u'open': 0.649, u'manipulate': 0.0, u'fill': 0.067, u'neared': 0.067, u'approach': 0.0, u'listen': 0.0, u'run': 0.0, u'see': 0.42, u'rub': 0.0, u'break': 0.0, u'lift': 0.0, u'hear': 0.0, u'wear': 0.0, u'eat': 0.564, u'smell': 0.0, u'ride': 0.0, u'drive': 0.0, u'clean': 0.0, u'enter': 0.181, u'push': 0.0}\n",
      "{u'taste': 0.0, u'move': 0.268, u'say': 0.244, u'touch': 0.127, u'fear': 0.024, u'open': 0.422, u'manipulate': 0.0, u'fill': 0.054, u'neared': 0.614, u'approach': 0.06, u'listen': 0.009, u'run': 0.129, u'see': 0.474, u'rub': 0.007, u'break': 0.047, u'lift': 0.053, u'hear': 0.012, u'wear': 0.015, u'eat': 0.035, u'smell': 0.0, u'ride': 0.018, u'drive': 0.075, u'clean': 0.185, u'enter': 0.032, u'push': 0.004}\n",
      "{u'taste': 0.0, u'move': 0.027, u'say': 0.119, u'touch': 0.03, u'fear': 0.0, u'open': 0.1, u'manipulate': 0.0, u'fill': 0.126, u'neared': 0.276, u'approach': 0.003, u'listen': 0.002, u'run': 0.205, u'see': 0.175, u'rub': 0.0, u'break': 0.015, u'lift': 0.006, u'hear': 0.003, u'wear': 0.033, u'eat': 0.002, u'smell': 0.008, u'ride': 0.0, u'drive': 0.07, u'clean': 0.893, u'enter': 0.074, u'push': 0.037}\n",
      "{u'taste': 0.0, u'move': 0.059, u'say': 0.161, u'touch': 0.001, u'fear': 0.017, u'open': 0.768, u'manipulate': 0.0, u'fill': 0.121, u'neared': 0.057, u'approach': 0.013, u'listen': 0.002, u'run': 0.094, u'see': 0.258, u'rub': 0.002, u'break': 0.008, u'lift': 0.009, u'hear': 0.009, u'wear': 0.031, u'eat': 0.013, u'smell': 0.007, u'ride': 0.0, u'drive': 0.013, u'clean': 0.515, u'enter': 0.143, u'push': 0.01}\n",
      "{u'taste': 0.0, u'move': 0.017, u'say': 0.037, u'touch': 0.003, u'fear': 0.001, u'open': 0.996, u'manipulate': 0.0, u'fill': 0.002, u'neared': 0.031, u'approach': 0.008, u'listen': 0.003, u'run': 0.027, u'see': 0.029, u'rub': 0.0, u'break': 0.012, u'lift': 0.008, u'hear': 0.027, u'wear': 0.001, u'eat': 0.001, u'smell': 0.0, u'ride': 0.001, u'drive': 0.015, u'clean': 0.003, u'enter': 0.036, u'push': 0.024}\n",
      "{u'taste': 0.0, u'move': 0.012, u'say': 0.008, u'touch': 0.002, u'fear': 0.0, u'open': 0.998, u'manipulate': 0.0, u'fill': 0.004, u'neared': 0.009, u'approach': 0.002, u'listen': 0.001, u'run': 0.01, u'see': 0.05, u'rub': 0.0, u'break': 0.008, u'lift': 0.002, u'hear': 0.002, u'wear': 0.002, u'eat': 0.001, u'smell': 0.0, u'ride': 0.001, u'drive': 0.007, u'clean': 0.003, u'enter': 0.014, u'push': 0.001}\n",
      "{u'taste': 0.003, u'move': 0.04, u'say': 0.127, u'touch': 0.028, u'fear': 0.001, u'open': 0.58, u'manipulate': 0.0, u'fill': 0.054, u'neared': 0.016, u'approach': 0.007, u'listen': 0.002, u'run': 0.045, u'see': 0.161, u'rub': 0.018, u'break': 0.009, u'lift': 0.012, u'hear': 0.004, u'wear': 0.739, u'eat': 0.003, u'smell': 0.009, u'ride': 0.105, u'drive': 0.194, u'clean': 0.136, u'enter': 0.011, u'push': 0.019}\n",
      "{u'taste': 0.023, u'move': 0.017, u'say': 0.092, u'touch': 0.014, u'fear': 0.001, u'open': 0.474, u'manipulate': 0.0, u'fill': 0.006, u'neared': 0.014, u'approach': 0.003, u'listen': 0.003, u'run': 0.027, u'see': 0.198, u'rub': 0.001, u'break': 0.002, u'lift': 0.037, u'hear': 0.003, u'wear': 0.843, u'eat': 0.034, u'smell': 0.001, u'ride': 0.016, u'drive': 0.101, u'clean': 0.043, u'enter': 0.006, u'push': 0.016}\n",
      "{u'taste': 0.001, u'move': 0.013, u'say': 0.063, u'touch': 0.013, u'fear': 0.01, u'open': 0.616, u'manipulate': 0.0, u'fill': 0.012, u'neared': 0.004, u'approach': 0.007, u'listen': 0.003, u'run': 0.017, u'see': 0.102, u'rub': 0.012, u'break': 0.066, u'lift': 0.004, u'hear': 0.006, u'wear': 0.773, u'eat': 0.007, u'smell': 0.005, u'ride': 0.047, u'drive': 0.004, u'clean': 0.027, u'enter': 0.005, u'push': 0.015}\n",
      "{u'taste': 0.003, u'move': 0.011, u'say': 0.302, u'touch': 0.036, u'fear': 0.015, u'open': 0.554, u'manipulate': 0.0, u'fill': 0.008, u'neared': 0.005, u'approach': 0.002, u'listen': 0.004, u'run': 0.058, u'see': 0.177, u'rub': 0.006, u'break': 0.045, u'lift': 0.075, u'hear': 0.002, u'wear': 0.739, u'eat': 0.036, u'smell': 0.006, u'ride': 0.034, u'drive': 0.011, u'clean': 0.095, u'enter': 0.017, u'push': 0.022}\n",
      "{u'taste': 0.0, u'move': 0.013, u'say': 0.045, u'touch': 0.016, u'fear': 0.0, u'open': 0.288, u'manipulate': 0.0, u'fill': 0.002, u'neared': 0.005, u'approach': 0.0, u'listen': 0.0, u'run': 0.02, u'see': 0.083, u'rub': 0.009, u'break': 0.734, u'lift': 0.311, u'hear': 0.0, u'wear': 0.52, u'eat': 0.001, u'smell': 0.0, u'ride': 0.028, u'drive': 0.001, u'clean': 0.016, u'enter': 0.0, u'push': 0.025}\n",
      "{u'taste': 0.007, u'move': 0.207, u'say': 0.322, u'touch': 0.048, u'fear': 0.02, u'open': 0.489, u'manipulate': 0.011, u'fill': 0.081, u'neared': 0.59, u'approach': 0.038, u'listen': 0.039, u'run': 0.212, u'see': 0.34, u'rub': 0.019, u'break': 0.086, u'lift': 0.114, u'hear': 0.073, u'wear': 0.085, u'eat': 0.107, u'smell': 0.013, u'ride': 0.021, u'drive': 0.074, u'clean': 0.192, u'enter': 0.045, u'push': 0.062}\n",
      "{u'taste': 0.0, u'move': 0.137, u'say': 0.285, u'touch': 0.041, u'fear': 0.003, u'open': 0.141, u'manipulate': 0.0, u'fill': 0.029, u'neared': 0.06, u'approach': 0.008, u'listen': 0.01, u'run': 0.026, u'see': 0.117, u'rub': 0.003, u'break': 0.026, u'lift': 0.92, u'hear': 0.022, u'wear': 0.002, u'eat': 0.007, u'smell': 0.001, u'ride': 0.031, u'drive': 0.01, u'clean': 0.014, u'enter': 0.004, u'push': 0.102}\n",
      "{u'taste': 0.0, u'move': 0.115, u'say': 0.273, u'touch': 0.022, u'fear': 0.001, u'open': 0.862, u'manipulate': 0.0, u'fill': 0.029, u'neared': 0.193, u'approach': 0.054, u'listen': 0.014, u'run': 0.106, u'see': 0.267, u'rub': 0.002, u'break': 0.014, u'lift': 0.078, u'hear': 0.012, u'wear': 0.002, u'eat': 0.038, u'smell': 0.001, u'ride': 0.033, u'drive': 0.022, u'clean': 0.187, u'enter': 0.015, u'push': 0.024}\n",
      "{u'taste': 0.0, u'move': 0.192, u'say': 0.444, u'touch': 0.019, u'fear': 0.0, u'open': 0.812, u'manipulate': 0.0, u'fill': 0.057, u'neared': 0.164, u'approach': 0.011, u'listen': 0.0, u'run': 0.027, u'see': 0.247, u'rub': 0.043, u'break': 0.0, u'lift': 0.0, u'hear': 0.0, u'wear': 0.008, u'eat': 0.0, u'smell': 0.0, u'ride': 0.0, u'drive': 0.022, u'clean': 0.108, u'enter': 0.0, u'push': 0.026}\n",
      "{u'taste': 0.002, u'move': 0.044, u'say': 0.046, u'touch': 0.01, u'fear': 0.001, u'open': 0.087, u'manipulate': 0.001, u'fill': 0.033, u'neared': 0.032, u'approach': 0.015, u'listen': 0.002, u'run': 0.022, u'see': 0.992, u'rub': 0.001, u'break': 0.012, u'lift': 0.025, u'hear': 0.003, u'wear': 0.004, u'eat': 0.017, u'smell': 0.0, u'ride': 0.002, u'drive': 0.009, u'clean': 0.011, u'enter': 0.02, u'push': 0.008}\n",
      "{u'taste': 0.006, u'move': 0.074, u'say': 0.156, u'touch': 0.005, u'fear': 0.005, u'open': 0.13, u'manipulate': 0.003, u'fill': 0.005, u'neared': 0.017, u'approach': 0.023, u'listen': 0.004, u'run': 0.944, u'see': 0.198, u'rub': 0.006, u'break': 0.017, u'lift': 0.016, u'hear': 0.016, u'wear': 0.003, u'eat': 0.062, u'smell': 0.0, u'ride': 0.015, u'drive': 0.01, u'clean': 0.132, u'enter': 0.016, u'push': 0.0}\n",
      "{u'taste': 0.004, u'move': 0.099, u'say': 0.596, u'touch': 0.013, u'fear': 0.02, u'open': 0.099, u'manipulate': 0.008, u'fill': 0.014, u'neared': 0.054, u'approach': 0.175, u'listen': 0.08, u'run': 0.148, u'see': 0.671, u'rub': 0.002, u'break': 0.302, u'lift': 0.018, u'hear': 0.053, u'wear': 0.021, u'eat': 0.092, u'smell': 0.027, u'ride': 0.067, u'drive': 0.022, u'clean': 0.04, u'enter': 0.046, u'push': 0.015}\n",
      "{u'taste': 0.0, u'move': 0.064, u'say': 0.379, u'touch': 0.0, u'fear': 0.0, u'open': 0.203, u'manipulate': 0.0, u'fill': 0.011, u'neared': 0.013, u'approach': 0.0, u'listen': 0.0, u'run': 0.06, u'see': 0.256, u'rub': 0.0, u'break': 0.014, u'lift': 0.016, u'hear': 0.014, u'wear': 0.045, u'eat': 0.487, u'smell': 0.0, u'ride': 0.063, u'drive': 0.702, u'clean': 0.063, u'enter': 0.025, u'push': 0.011}\n",
      "{u'taste': 0.004, u'move': 0.044, u'say': 0.252, u'touch': 0.103, u'fear': 0.039, u'open': 0.751, u'manipulate': 0.0, u'fill': 0.057, u'neared': 0.087, u'approach': 0.004, u'listen': 0.081, u'run': 0.14, u'see': 0.51, u'rub': 0.018, u'break': 0.146, u'lift': 0.01, u'hear': 0.037, u'wear': 0.141, u'eat': 0.064, u'smell': 0.003, u'ride': 0.05, u'drive': 0.06, u'clean': 0.013, u'enter': 0.009, u'push': 0.093}\n",
      "{u'taste': 0.001, u'move': 0.026, u'say': 0.145, u'touch': 0.017, u'fear': 0.027, u'open': 0.196, u'manipulate': 0.002, u'fill': 0.006, u'neared': 0.048, u'approach': 0.023, u'listen': 0.005, u'run': 0.118, u'see': 0.23, u'rub': 0.0, u'break': 0.037, u'lift': 0.019, u'hear': 0.043, u'wear': 0.027, u'eat': 0.023, u'smell': 0.001, u'ride': 0.045, u'drive': 0.929, u'clean': 0.01, u'enter': 0.009, u'push': 0.005}\n",
      "{u'taste': 0.033, u'move': 0.015, u'say': 0.166, u'touch': 0.062, u'fear': 0.005, u'open': 0.821, u'manipulate': 0.0, u'fill': 0.477, u'neared': 0.026, u'approach': 0.003, u'listen': 0.003, u'run': 0.031, u'see': 0.127, u'rub': 0.033, u'break': 0.154, u'lift': 0.033, u'hear': 0.019, u'wear': 0.016, u'eat': 0.012, u'smell': 0.01, u'ride': 0.006, u'drive': 0.077, u'clean': 0.113, u'enter': 0.016, u'push': 0.054}\n",
      "{u'taste': 0.097, u'move': 0.053, u'say': 0.18, u'touch': 0.056, u'fear': 0.036, u'open': 0.885, u'manipulate': 0.0, u'fill': 0.291, u'neared': 0.014, u'approach': 0.006, u'listen': 0.005, u'run': 0.19, u'see': 0.133, u'rub': 0.014, u'break': 0.044, u'lift': 0.122, u'hear': 0.002, u'wear': 0.034, u'eat': 0.025, u'smell': 0.0, u'ride': 0.037, u'drive': 0.05, u'clean': 0.044, u'enter': 0.055, u'push': 0.027}\n",
      "{u'taste': 0.011, u'move': 0.027, u'say': 0.137, u'touch': 0.103, u'fear': 0.006, u'open': 0.279, u'manipulate': 0.003, u'fill': 0.663, u'neared': 0.048, u'approach': 0.01, u'listen': 0.004, u'run': 0.035, u'see': 0.356, u'rub': 0.014, u'break': 0.52, u'lift': 0.083, u'hear': 0.033, u'wear': 0.021, u'eat': 0.025, u'smell': 0.005, u'ride': 0.025, u'drive': 0.014, u'clean': 0.203, u'enter': 0.02, u'push': 0.022}\n",
      "{u'taste': 0.002, u'move': 0.047, u'say': 0.204, u'touch': 0.244, u'fear': 0.073, u'open': 0.802, u'manipulate': 0.0, u'fill': 0.013, u'neared': 0.115, u'approach': 0.03, u'listen': 0.005, u'run': 0.32, u'see': 0.257, u'rub': 0.006, u'break': 0.049, u'lift': 0.039, u'hear': 0.006, u'wear': 0.053, u'eat': 0.106, u'smell': 0.0, u'ride': 0.002, u'drive': 0.128, u'clean': 0.157, u'enter': 0.042, u'push': 0.069}\n",
      "{u'taste': 0.074, u'move': 0.042, u'say': 0.142, u'touch': 0.006, u'fear': 0.0, u'open': 0.523, u'manipulate': 0.0, u'fill': 0.103, u'neared': 0.017, u'approach': 0.01, u'listen': 0.011, u'run': 0.299, u'see': 0.103, u'rub': 0.019, u'break': 0.085, u'lift': 0.093, u'hear': 0.006, u'wear': 0.0, u'eat': 0.741, u'smell': 0.0, u'ride': 0.002, u'drive': 0.037, u'clean': 0.139, u'enter': 0.004, u'push': 0.049}\n",
      "{u'taste': 0.002, u'move': 0.044, u'say': 0.779, u'touch': 0.026, u'fear': 0.004, u'open': 0.182, u'manipulate': 0.0, u'fill': 0.006, u'neared': 0.056, u'approach': 0.011, u'listen': 0.419, u'run': 0.146, u'see': 0.209, u'rub': 0.001, u'break': 0.03, u'lift': 0.011, u'hear': 0.217, u'wear': 0.027, u'eat': 0.023, u'smell': 0.0, u'ride': 0.048, u'drive': 0.086, u'clean': 0.011, u'enter': 0.036, u'push': 0.231}\n",
      "{u'taste': 0.003, u'move': 0.166, u'say': 0.276, u'touch': 0.092, u'fear': 0.028, u'open': 0.213, u'manipulate': 0.003, u'fill': 0.045, u'neared': 0.055, u'approach': 0.122, u'listen': 0.013, u'run': 0.072, u'see': 0.336, u'rub': 0.001, u'break': 0.058, u'lift': 0.006, u'hear': 0.028, u'wear': 0.012, u'eat': 0.011, u'smell': 0.0, u'ride': 0.005, u'drive': 0.168, u'clean': 0.014, u'enter': 0.818, u'push': 0.038}\n",
      "{u'taste': 0.01, u'move': 0.057, u'say': 0.08, u'touch': 0.04, u'fear': 0.0, u'open': 0.894, u'manipulate': 0.0, u'fill': 0.157, u'neared': 0.05, u'approach': 0.0, u'listen': 0.0, u'run': 0.087, u'see': 0.102, u'rub': 0.001, u'break': 0.027, u'lift': 0.006, u'hear': 0.011, u'wear': 0.0, u'eat': 0.099, u'smell': 0.01, u'ride': 0.0, u'drive': 0.017, u'clean': 0.362, u'enter': 0.039, u'push': 0.01}\n",
      "{u'taste': 0.0, u'move': 0.017, u'say': 0.468, u'touch': 0.143, u'fear': 0.007, u'open': 0.154, u'manipulate': 0.0, u'fill': 0.01, u'neared': 0.042, u'approach': 0.008, u'listen': 0.029, u'run': 0.033, u'see': 0.775, u'rub': 0.0, u'break': 0.029, u'lift': 0.016, u'hear': 0.034, u'wear': 0.005, u'eat': 0.0, u'smell': 0.0, u'ride': 0.001, u'drive': 0.03, u'clean': 0.006, u'enter': 0.358, u'push': 0.011}\n",
      "{u'taste': 0.001, u'move': 0.027, u'say': 0.156, u'touch': 0.015, u'fear': 0.006, u'open': 0.562, u'manipulate': 0.0, u'fill': 0.007, u'neared': 0.006, u'approach': 0.003, u'listen': 0.782, u'run': 0.04, u'see': 0.179, u'rub': 0.001, u'break': 0.013, u'lift': 0.003, u'hear': 0.021, u'wear': 0.026, u'eat': 0.049, u'smell': 0.001, u'ride': 0.016, u'drive': 0.098, u'clean': 0.013, u'enter': 0.008, u'push': 0.003}\n",
      "{u'taste': 0.0, u'move': 0.02, u'say': 0.035, u'touch': 0.642, u'fear': 0.0, u'open': 0.14, u'manipulate': 0.015, u'fill': 0.012, u'neared': 0.0, u'approach': 0.0, u'listen': 0.0, u'run': 0.022, u'see': 0.028, u'rub': 0.012, u'break': 0.104, u'lift': 0.737, u'hear': 0.0, u'wear': 0.024, u'eat': 0.0, u'smell': 0.0, u'ride': 0.0, u'drive': 0.096, u'clean': 0.034, u'enter': 0.0, u'push': 0.011}\n",
      "{u'taste': 0.001, u'move': 0.027, u'say': 0.215, u'touch': 0.937, u'fear': 0.014, u'open': 0.12, u'manipulate': 0.0, u'fill': 0.011, u'neared': 0.014, u'approach': 0.023, u'listen': 0.005, u'run': 0.022, u'see': 0.117, u'rub': 0.001, u'break': 0.129, u'lift': 0.051, u'hear': 0.016, u'wear': 0.061, u'eat': 0.01, u'smell': 0.003, u'ride': 0.006, u'drive': 0.143, u'clean': 0.009, u'enter': 0.007, u'push': 0.019}\n",
      "{u'taste': 0.0, u'move': 0.04, u'say': 0.013, u'touch': 0.075, u'fear': 0.0, u'open': 0.977, u'manipulate': 0.0, u'fill': 0.0, u'neared': 0.013, u'approach': 0.0, u'listen': 0.0, u'run': 0.0, u'see': 0.066, u'rub': 0.0, u'break': 0.11, u'lift': 0.015, u'hear': 0.0, u'wear': 0.0, u'eat': 0.0, u'smell': 0.0, u'ride': 0.0, u'drive': 0.084, u'clean': 0.0, u'enter': 0.0, u'push': 0.12}\n",
      "{u'taste': 0.002, u'move': 0.052, u'say': 0.934, u'touch': 0.011, u'fear': 0.019, u'open': 0.131, u'manipulate': 0.0, u'fill': 0.009, u'neared': 0.028, u'approach': 0.019, u'listen': 0.003, u'run': 0.064, u'see': 0.226, u'rub': 0.0, u'break': 0.023, u'lift': 0.018, u'hear': 0.219, u'wear': 0.006, u'eat': 0.008, u'smell': 0.004, u'ride': 0.014, u'drive': 0.032, u'clean': 0.005, u'enter': 0.031, u'push': 0.004}\n",
      "{u'taste': 0.0, u'move': 0.078, u'say': 0.036, u'touch': 0.033, u'fear': 0.0, u'open': 0.838, u'manipulate': 0.0, u'fill': 0.019, u'neared': 0.019, u'approach': 0.0, u'listen': 0.0, u'run': 0.011, u'see': 0.112, u'rub': 0.0, u'break': 0.057, u'lift': 0.081, u'hear': 0.006, u'wear': 0.0, u'eat': 0.0, u'smell': 0.0, u'ride': 0.0, u'drive': 0.341, u'clean': 0.028, u'enter': 0.0, u'push': 0.386}\n",
      "{u'taste': 0.063, u'move': 0.008, u'say': 0.242, u'touch': 0.0, u'fear': 0.0, u'open': 0.015, u'manipulate': 0.0, u'fill': 0.03, u'neared': 0.012, u'approach': 0.883, u'listen': 0.0, u'run': 0.004, u'see': 0.13, u'rub': 0.0, u'break': 0.007, u'lift': 0.0, u'hear': 0.0, u'wear': 0.0, u'eat': 0.368, u'smell': 0.02, u'ride': 0.005, u'drive': 0.056, u'clean': 0.0, u'enter': 0.0, u'push': 0.003}\n",
      "{u'taste': 0.346, u'move': 0.0, u'say': 0.016, u'touch': 0.029, u'fear': 0.0, u'open': 0.06, u'manipulate': 0.0, u'fill': 0.315, u'neared': 0.0, u'approach': 0.0, u'listen': 0.0, u'run': 0.0, u'see': 0.243, u'rub': 0.0, u'break': 0.0, u'lift': 0.0, u'hear': 0.0, u'wear': 0.0, u'eat': 0.837, u'smell': 0.059, u'ride': 0.0, u'drive': 0.0, u'clean': 0.115, u'enter': 0.0, u'push': 0.0}\n",
      "{u'taste': 0.108, u'move': 0.027, u'say': 0.365, u'touch': 0.005, u'fear': 0.0, u'open': 0.161, u'manipulate': 0.005, u'fill': 0.19, u'neared': 0.112, u'approach': 0.003, u'listen': 0.005, u'run': 0.057, u'see': 0.224, u'rub': 0.009, u'break': 0.014, u'lift': 0.003, u'hear': 0.068, u'wear': 0.004, u'eat': 0.785, u'smell': 0.04, u'ride': 0.035, u'drive': 0.011, u'clean': 0.054, u'enter': 0.316, u'push': 0.013}\n",
      "{u'taste': 0.056, u'move': 0.0, u'say': 0.116, u'touch': 0.021, u'fear': 0.0, u'open': 0.015, u'manipulate': 0.0, u'fill': 0.108, u'neared': 0.031, u'approach': 0.006, u'listen': 0.0, u'run': 0.004, u'see': 0.065, u'rub': 0.0, u'break': 0.026, u'lift': 0.0, u'hear': 0.0, u'wear': 0.0, u'eat': 0.979, u'smell': 0.0, u'ride': 0.0, u'drive': 0.005, u'clean': 0.082, u'enter': 0.0, u'push': 0.0}\n",
      "{u'taste': 0.173, u'move': 0.0, u'say': 0.919, u'touch': 0.173, u'fear': 0.005, u'open': 0.056, u'manipulate': 0.0, u'fill': 0.082, u'neared': 0.039, u'approach': 0.0, u'listen': 0.0, u'run': 0.017, u'see': 0.123, u'rub': 0.022, u'break': 0.01, u'lift': 0.0, u'hear': 0.002, u'wear': 0.006, u'eat': 0.26, u'smell': 0.02, u'ride': 0.007, u'drive': 0.011, u'clean': 0.009, u'enter': 0.014, u'push': 0.0}\n",
      "{u'taste': 0.0, u'move': 0.052, u'say': 0.201, u'touch': 0.048, u'fear': 0.019, u'open': 0.114, u'manipulate': 0.0, u'fill': 0.032, u'neared': 0.166, u'approach': 0.048, u'listen': 0.015, u'run': 0.052, u'see': 0.221, u'rub': 0.0, u'break': 0.028, u'lift': 0.072, u'hear': 0.066, u'wear': 0.001, u'eat': 0.024, u'smell': 0.005, u'ride': 0.918, u'drive': 0.023, u'clean': 0.019, u'enter': 0.056, u'push': 0.024}\n",
      "{u'taste': 0.0, u'move': 0.009, u'say': 0.027, u'touch': 0.001, u'fear': 0.002, u'open': 0.032, u'manipulate': 0.0, u'fill': 0.002, u'neared': 0.017, u'approach': 0.003, u'listen': 0.001, u'run': 0.023, u'see': 0.03, u'rub': 0.0, u'break': 0.004, u'lift': 0.011, u'hear': 0.003, u'wear': 0.056, u'eat': 0.001, u'smell': 0.0, u'ride': 0.996, u'drive': 0.032, u'clean': 0.001, u'enter': 0.004, u'push': 0.006}\n",
      "{u'taste': 0.0, u'move': 0.088, u'say': 0.121, u'touch': 0.027, u'fear': 0.003, u'open': 0.195, u'manipulate': 0.0, u'fill': 0.046, u'neared': 0.289, u'approach': 0.026, u'listen': 0.016, u'run': 0.19, u'see': 0.384, u'rub': 0.001, u'break': 0.093, u'lift': 0.057, u'hear': 0.032, u'wear': 0.016, u'eat': 0.012, u'smell': 0.019, u'ride': 0.201, u'drive': 0.778, u'clean': 0.083, u'enter': 0.038, u'push': 0.034}\n",
      "{u'taste': 0.0, u'move': 0.061, u'say': 0.085, u'touch': 0.005, u'fear': 0.008, u'open': 0.059, u'manipulate': 0.0, u'fill': 0.02, u'neared': 0.246, u'approach': 0.039, u'listen': 0.009, u'run': 0.205, u'see': 0.095, u'rub': 0.0, u'break': 0.039, u'lift': 0.009, u'hear': 0.06, u'wear': 0.005, u'eat': 0.016, u'smell': 0.001, u'ride': 0.791, u'drive': 0.489, u'clean': 0.004, u'enter': 0.031, u'push': 0.011}\n",
      "{u'taste': 0.0, u'move': 0.173, u'say': 0.109, u'touch': 0.021, u'fear': 0.005, u'open': 0.149, u'manipulate': 0.0, u'fill': 0.054, u'neared': 0.182, u'approach': 0.015, u'listen': 0.002, u'run': 0.165, u'see': 0.163, u'rub': 0.0, u'break': 0.029, u'lift': 0.75, u'hear': 0.018, u'wear': 0.004, u'eat': 0.003, u'smell': 0.004, u'ride': 0.089, u'drive': 0.521, u'clean': 0.037, u'enter': 0.022, u'push': 0.023}\n"
     ]
    }
   ],
   "source": [
    "vrbds = list()\n",
    "for v in verbs_data:\n",
    "    vrb = v.text.split('\\n')[1:-1]\n",
    "    for vr in vrb:\n",
    "        verb_l = vr.split()[0]\n",
    "        verb_p = vr.split()[-1].split(')')[0][1:]\n",
    "        vrbd[verb_l] = float(verb_p)\n",
    "    print vrbd\n",
    "    vrbds.append(vrbd.values())\n",
    "    for vr in vrb:\n",
    "        vrbd[vr.split()[0]] = float(0.0)"
   ]
  },
  {
   "cell_type": "code",
   "execution_count": 20,
   "metadata": {},
   "outputs": [
    {
     "name": "stdout",
     "output_type": "stream",
     "text": [
      "[[0.486, 0.054, 0.52, 0.07, 0.013, 0.19, 0.0, 0.031, 0.167, 0.041, 0.041, 0.181, 0.52, 0.018, 0.069, 0.018, 0.143, 0.214, 0.158, 0.018, 0.079, 0.085, 0.024, 0.054, 0.011], [0.027, 0.088, 0.592, 0.075, 0.041, 0.175, 0.002, 0.031, 0.069, 0.028, 0.075, 0.303, 0.449, 0.022, 0.033, 0.041, 0.208, 0.048, 0.435, 0.163, 0.052, 0.053, 0.146, 0.068, 0.031], [0.027, 0.045, 0.0, 0.08, 0.367, 0.056, 0.0, 0.048, 0.115, 0.014, 0.023, 0.261, 0.205, 0.04, 0.027, 0.013, 0.061, 0.025, 0.421, 0.073, 0.067, 0.042, 0.039, 0.043, 0.009], [0.018, 0.079, 0.294, 0.023, 0.015, 0.105, 0.0, 0.02, 0.097, 0.031, 0.022, 0.301, 0.46, 0.004, 0.06, 0.014, 0.075, 0.049, 0.742, 0.062, 0.054, 0.042, 0.072, 0.078, 0.011], [0.005, 0.054, 0.119, 0.013, 0.023, 0.092, 0.0, 0.017, 0.053, 0.012, 0.003, 0.128, 0.123, 0.002, 0.039, 0.009, 0.03, 0.052, 0.082, 0.017, 0.961, 0.05, 0.01, 0.034, 0.012], [0.002, 0.441, 0.45, 0.206, 0.005, 0.147, 0.003, 0.026, 0.079, 0.019, 0.006, 0.103, 0.132, 0.03, 0.432, 0.548, 0.007, 0.048, 0.008, 0.001, 0.01, 0.071, 0.021, 0.024, 0.084], [0.006, 0.042, 0.187, 0.029, 0.022, 0.328, 0.001, 0.042, 0.059, 0.009, 0.004, 0.025, 0.794, 0.011, 0.027, 0.105, 0.011, 0.3, 0.011, 0.003, 0.325, 0.007, 0.095, 0.034, 0.008], [0.007, 0.282, 0.243, 0.153, 0.034, 0.388, 0.0, 0.039, 0.212, 0.054, 0.001, 0.131, 0.265, 0.105, 0.481, 0.229, 0.036, 0.478, 0.016, 0.009, 0.051, 0.097, 0.032, 0.038, 0.092], [0.009, 0.319, 0.508, 0.299, 0.029, 0.309, 0.01, 0.077, 0.173, 0.031, 0.008, 0.205, 0.47, 0.166, 0.068, 0.153, 0.082, 0.031, 0.028, 0.006, 0.016, 0.262, 0.069, 0.061, 0.11], [0.001, 0.125, 0.129, 0.046, 0.001, 0.279, 0.0, 0.01, 0.031, 0.008, 0.0, 0.111, 0.07, 0.034, 0.821, 0.427, 0.003, 0.091, 0.011, 0.003, 0.011, 0.047, 0.018, 0.013, 0.038], [0.0, 0.654, 0.093, 0.002, 0.002, 0.122, 0.0, 0.08, 0.619, 0.009, 0.004, 0.075, 0.2, 0.0, 0.064, 0.024, 0.021, 0.0, 0.012, 0.036, 0.007, 0.07, 0.238, 0.21, 0.002], [0.0, 0.055, 0.71, 0.004, 0.002, 0.485, 0.0, 0.094, 0.436, 0.009, 0.003, 0.092, 0.148, 0.001, 0.008, 0.025, 0.021, 0.104, 0.006, 0.025, 0.041, 0.037, 0.054, 0.099, 0.0], [0.001, 0.112, 0.762, 0.01, 0.025, 0.265, 0.0, 0.071, 0.325, 0.033, 0.025, 0.143, 0.395, 0.0, 0.042, 0.004, 0.101, 0.022, 0.005, 0.001, 0.019, 0.099, 0.018, 0.153, 0.005], [0.002, 0.224, 0.27, 0.005, 0.011, 0.837, 0.001, 0.044, 0.21, 0.016, 0.013, 0.223, 0.148, 0.0, 0.108, 0.007, 0.035, 0.011, 0.018, 0.012, 0.013, 0.058, 0.166, 0.114, 0.009], [0.0, 0.0, 0.204, 0.0, 0.0, 0.649, 0.0, 0.067, 0.067, 0.0, 0.0, 0.0, 0.42, 0.0, 0.0, 0.0, 0.0, 0.0, 0.564, 0.0, 0.0, 0.0, 0.0, 0.181, 0.0], [0.0, 0.268, 0.244, 0.127, 0.024, 0.422, 0.0, 0.054, 0.614, 0.06, 0.009, 0.129, 0.474, 0.007, 0.047, 0.053, 0.012, 0.015, 0.035, 0.0, 0.018, 0.075, 0.185, 0.032, 0.004], [0.0, 0.027, 0.119, 0.03, 0.0, 0.1, 0.0, 0.126, 0.276, 0.003, 0.002, 0.205, 0.175, 0.0, 0.015, 0.006, 0.003, 0.033, 0.002, 0.008, 0.0, 0.07, 0.893, 0.074, 0.037], [0.0, 0.059, 0.161, 0.001, 0.017, 0.768, 0.0, 0.121, 0.057, 0.013, 0.002, 0.094, 0.258, 0.002, 0.008, 0.009, 0.009, 0.031, 0.013, 0.007, 0.0, 0.013, 0.515, 0.143, 0.01], [0.0, 0.017, 0.037, 0.003, 0.001, 0.996, 0.0, 0.002, 0.031, 0.008, 0.003, 0.027, 0.029, 0.0, 0.012, 0.008, 0.027, 0.001, 0.001, 0.0, 0.001, 0.015, 0.003, 0.036, 0.024], [0.0, 0.012, 0.008, 0.002, 0.0, 0.998, 0.0, 0.004, 0.009, 0.002, 0.001, 0.01, 0.05, 0.0, 0.008, 0.002, 0.002, 0.002, 0.001, 0.0, 0.001, 0.007, 0.003, 0.014, 0.001], [0.003, 0.04, 0.127, 0.028, 0.001, 0.58, 0.0, 0.054, 0.016, 0.007, 0.002, 0.045, 0.161, 0.018, 0.009, 0.012, 0.004, 0.739, 0.003, 0.009, 0.105, 0.194, 0.136, 0.011, 0.019], [0.023, 0.017, 0.092, 0.014, 0.001, 0.474, 0.0, 0.006, 0.014, 0.003, 0.003, 0.027, 0.198, 0.001, 0.002, 0.037, 0.003, 0.843, 0.034, 0.001, 0.016, 0.101, 0.043, 0.006, 0.016], [0.001, 0.013, 0.063, 0.013, 0.01, 0.616, 0.0, 0.012, 0.004, 0.007, 0.003, 0.017, 0.102, 0.012, 0.066, 0.004, 0.006, 0.773, 0.007, 0.005, 0.047, 0.004, 0.027, 0.005, 0.015], [0.003, 0.011, 0.302, 0.036, 0.015, 0.554, 0.0, 0.008, 0.005, 0.002, 0.004, 0.058, 0.177, 0.006, 0.045, 0.075, 0.002, 0.739, 0.036, 0.006, 0.034, 0.011, 0.095, 0.017, 0.022], [0.0, 0.013, 0.045, 0.016, 0.0, 0.288, 0.0, 0.002, 0.005, 0.0, 0.0, 0.02, 0.083, 0.009, 0.734, 0.311, 0.0, 0.52, 0.001, 0.0, 0.028, 0.001, 0.016, 0.0, 0.025], [0.007, 0.207, 0.322, 0.048, 0.02, 0.489, 0.011, 0.081, 0.59, 0.038, 0.039, 0.212, 0.34, 0.019, 0.086, 0.114, 0.073, 0.085, 0.107, 0.013, 0.021, 0.074, 0.192, 0.045, 0.062], [0.0, 0.137, 0.285, 0.041, 0.003, 0.141, 0.0, 0.029, 0.06, 0.008, 0.01, 0.026, 0.117, 0.003, 0.026, 0.92, 0.022, 0.002, 0.007, 0.001, 0.031, 0.01, 0.014, 0.004, 0.102], [0.0, 0.115, 0.273, 0.022, 0.001, 0.862, 0.0, 0.029, 0.193, 0.054, 0.014, 0.106, 0.267, 0.002, 0.014, 0.078, 0.012, 0.002, 0.038, 0.001, 0.033, 0.022, 0.187, 0.015, 0.024], [0.0, 0.192, 0.444, 0.019, 0.0, 0.812, 0.0, 0.057, 0.164, 0.011, 0.0, 0.027, 0.247, 0.043, 0.0, 0.0, 0.0, 0.008, 0.0, 0.0, 0.0, 0.022, 0.108, 0.0, 0.026], [0.002, 0.044, 0.046, 0.01, 0.001, 0.087, 0.001, 0.033, 0.032, 0.015, 0.002, 0.022, 0.992, 0.001, 0.012, 0.025, 0.003, 0.004, 0.017, 0.0, 0.002, 0.009, 0.011, 0.02, 0.008], [0.006, 0.074, 0.156, 0.005, 0.005, 0.13, 0.003, 0.005, 0.017, 0.023, 0.004, 0.944, 0.198, 0.006, 0.017, 0.016, 0.016, 0.003, 0.062, 0.0, 0.015, 0.01, 0.132, 0.016, 0.0], [0.004, 0.099, 0.596, 0.013, 0.02, 0.099, 0.008, 0.014, 0.054, 0.175, 0.08, 0.148, 0.671, 0.002, 0.302, 0.018, 0.053, 0.021, 0.092, 0.027, 0.067, 0.022, 0.04, 0.046, 0.015], [0.0, 0.064, 0.379, 0.0, 0.0, 0.203, 0.0, 0.011, 0.013, 0.0, 0.0, 0.06, 0.256, 0.0, 0.014, 0.016, 0.014, 0.045, 0.487, 0.0, 0.063, 0.702, 0.063, 0.025, 0.011], [0.004, 0.044, 0.252, 0.103, 0.039, 0.751, 0.0, 0.057, 0.087, 0.004, 0.081, 0.14, 0.51, 0.018, 0.146, 0.01, 0.037, 0.141, 0.064, 0.003, 0.05, 0.06, 0.013, 0.009, 0.093], [0.001, 0.026, 0.145, 0.017, 0.027, 0.196, 0.002, 0.006, 0.048, 0.023, 0.005, 0.118, 0.23, 0.0, 0.037, 0.019, 0.043, 0.027, 0.023, 0.001, 0.045, 0.929, 0.01, 0.009, 0.005], [0.033, 0.015, 0.166, 0.062, 0.005, 0.821, 0.0, 0.477, 0.026, 0.003, 0.003, 0.031, 0.127, 0.033, 0.154, 0.033, 0.019, 0.016, 0.012, 0.01, 0.006, 0.077, 0.113, 0.016, 0.054], [0.097, 0.053, 0.18, 0.056, 0.036, 0.885, 0.0, 0.291, 0.014, 0.006, 0.005, 0.19, 0.133, 0.014, 0.044, 0.122, 0.002, 0.034, 0.025, 0.0, 0.037, 0.05, 0.044, 0.055, 0.027], [0.011, 0.027, 0.137, 0.103, 0.006, 0.279, 0.003, 0.663, 0.048, 0.01, 0.004, 0.035, 0.356, 0.014, 0.52, 0.083, 0.033, 0.021, 0.025, 0.005, 0.025, 0.014, 0.203, 0.02, 0.022], [0.002, 0.047, 0.204, 0.244, 0.073, 0.802, 0.0, 0.013, 0.115, 0.03, 0.005, 0.32, 0.257, 0.006, 0.049, 0.039, 0.006, 0.053, 0.106, 0.0, 0.002, 0.128, 0.157, 0.042, 0.069], [0.074, 0.042, 0.142, 0.006, 0.0, 0.523, 0.0, 0.103, 0.017, 0.01, 0.011, 0.299, 0.103, 0.019, 0.085, 0.093, 0.006, 0.0, 0.741, 0.0, 0.002, 0.037, 0.139, 0.004, 0.049], [0.002, 0.044, 0.779, 0.026, 0.004, 0.182, 0.0, 0.006, 0.056, 0.011, 0.419, 0.146, 0.209, 0.001, 0.03, 0.011, 0.217, 0.027, 0.023, 0.0, 0.048, 0.086, 0.011, 0.036, 0.231], [0.003, 0.166, 0.276, 0.092, 0.028, 0.213, 0.003, 0.045, 0.055, 0.122, 0.013, 0.072, 0.336, 0.001, 0.058, 0.006, 0.028, 0.012, 0.011, 0.0, 0.005, 0.168, 0.014, 0.818, 0.038], [0.01, 0.057, 0.08, 0.04, 0.0, 0.894, 0.0, 0.157, 0.05, 0.0, 0.0, 0.087, 0.102, 0.001, 0.027, 0.006, 0.011, 0.0, 0.099, 0.01, 0.0, 0.017, 0.362, 0.039, 0.01], [0.0, 0.017, 0.468, 0.143, 0.007, 0.154, 0.0, 0.01, 0.042, 0.008, 0.029, 0.033, 0.775, 0.0, 0.029, 0.016, 0.034, 0.005, 0.0, 0.0, 0.001, 0.03, 0.006, 0.358, 0.011], [0.001, 0.027, 0.156, 0.015, 0.006, 0.562, 0.0, 0.007, 0.006, 0.003, 0.782, 0.04, 0.179, 0.001, 0.013, 0.003, 0.021, 0.026, 0.049, 0.001, 0.016, 0.098, 0.013, 0.008, 0.003], [0.0, 0.02, 0.035, 0.642, 0.0, 0.14, 0.015, 0.012, 0.0, 0.0, 0.0, 0.022, 0.028, 0.012, 0.104, 0.737, 0.0, 0.024, 0.0, 0.0, 0.0, 0.096, 0.034, 0.0, 0.011], [0.001, 0.027, 0.215, 0.937, 0.014, 0.12, 0.0, 0.011, 0.014, 0.023, 0.005, 0.022, 0.117, 0.001, 0.129, 0.051, 0.016, 0.061, 0.01, 0.003, 0.006, 0.143, 0.009, 0.007, 0.019], [0.0, 0.04, 0.013, 0.075, 0.0, 0.977, 0.0, 0.0, 0.013, 0.0, 0.0, 0.0, 0.066, 0.0, 0.11, 0.015, 0.0, 0.0, 0.0, 0.0, 0.0, 0.084, 0.0, 0.0, 0.12], [0.002, 0.052, 0.934, 0.011, 0.019, 0.131, 0.0, 0.009, 0.028, 0.019, 0.003, 0.064, 0.226, 0.0, 0.023, 0.018, 0.219, 0.006, 0.008, 0.004, 0.014, 0.032, 0.005, 0.031, 0.004], [0.0, 0.078, 0.036, 0.033, 0.0, 0.838, 0.0, 0.019, 0.019, 0.0, 0.0, 0.011, 0.112, 0.0, 0.057, 0.081, 0.006, 0.0, 0.0, 0.0, 0.0, 0.341, 0.028, 0.0, 0.386], [0.063, 0.008, 0.242, 0.0, 0.0, 0.015, 0.0, 0.03, 0.012, 0.883, 0.0, 0.004, 0.13, 0.0, 0.007, 0.0, 0.0, 0.0, 0.368, 0.02, 0.005, 0.056, 0.0, 0.0, 0.003], [0.346, 0.0, 0.016, 0.029, 0.0, 0.06, 0.0, 0.315, 0.0, 0.0, 0.0, 0.0, 0.243, 0.0, 0.0, 0.0, 0.0, 0.0, 0.837, 0.059, 0.0, 0.0, 0.115, 0.0, 0.0], [0.108, 0.027, 0.365, 0.005, 0.0, 0.161, 0.005, 0.19, 0.112, 0.003, 0.005, 0.057, 0.224, 0.009, 0.014, 0.003, 0.068, 0.004, 0.785, 0.04, 0.035, 0.011, 0.054, 0.316, 0.013], [0.056, 0.0, 0.116, 0.021, 0.0, 0.015, 0.0, 0.108, 0.031, 0.006, 0.0, 0.004, 0.065, 0.0, 0.026, 0.0, 0.0, 0.0, 0.979, 0.0, 0.0, 0.005, 0.082, 0.0, 0.0], [0.173, 0.0, 0.919, 0.173, 0.005, 0.056, 0.0, 0.082, 0.039, 0.0, 0.0, 0.017, 0.123, 0.022, 0.01, 0.0, 0.002, 0.006, 0.26, 0.02, 0.007, 0.011, 0.009, 0.014, 0.0], [0.0, 0.052, 0.201, 0.048, 0.019, 0.114, 0.0, 0.032, 0.166, 0.048, 0.015, 0.052, 0.221, 0.0, 0.028, 0.072, 0.066, 0.001, 0.024, 0.005, 0.918, 0.023, 0.019, 0.056, 0.024], [0.0, 0.009, 0.027, 0.001, 0.002, 0.032, 0.0, 0.002, 0.017, 0.003, 0.001, 0.023, 0.03, 0.0, 0.004, 0.011, 0.003, 0.056, 0.001, 0.0, 0.996, 0.032, 0.001, 0.004, 0.006], [0.0, 0.088, 0.121, 0.027, 0.003, 0.195, 0.0, 0.046, 0.289, 0.026, 0.016, 0.19, 0.384, 0.001, 0.093, 0.057, 0.032, 0.016, 0.012, 0.019, 0.201, 0.778, 0.083, 0.038, 0.034], [0.0, 0.061, 0.085, 0.005, 0.008, 0.059, 0.0, 0.02, 0.246, 0.039, 0.009, 0.205, 0.095, 0.0, 0.039, 0.009, 0.06, 0.005, 0.016, 0.001, 0.791, 0.489, 0.004, 0.031, 0.011], [0.0, 0.173, 0.109, 0.021, 0.005, 0.149, 0.0, 0.054, 0.182, 0.015, 0.002, 0.165, 0.163, 0.0, 0.029, 0.75, 0.018, 0.004, 0.003, 0.004, 0.089, 0.521, 0.037, 0.022, 0.023]]\n"
     ]
    }
   ],
   "source": [
    "print vrbds"
   ]
  },
  {
   "cell_type": "code",
   "execution_count": 21,
   "metadata": {},
   "outputs": [],
   "source": [
    "X = np.array(labels)"
   ]
  },
  {
   "cell_type": "code",
   "execution_count": 23,
   "metadata": {},
   "outputs": [],
   "source": [
    "y = np.array(vrbds)"
   ]
  },
  {
   "cell_type": "code",
   "execution_count": 24,
   "metadata": {},
   "outputs": [],
   "source": [
    "np.save('keras/verb_labels.npy', X)"
   ]
  },
  {
   "cell_type": "code",
   "execution_count": 25,
   "metadata": {},
   "outputs": [],
   "source": [
    "np.save('keras/verb_vectors.npy', y)"
   ]
  },
  {
   "cell_type": "code",
   "execution_count": 26,
   "metadata": {},
   "outputs": [
    {
     "name": "stdout",
     "output_type": "stream",
     "text": [
      "[0.486 0.054 0.52  0.07  0.013 0.19  0.    0.031 0.167 0.041 0.041 0.181\n",
      " 0.52  0.018 0.069 0.018 0.143 0.214 0.158 0.018 0.079 0.085 0.024 0.054\n",
      " 0.011] bear\n",
      "[0.027 0.088 0.592 0.075 0.041 0.175 0.002 0.031 0.069 0.028 0.075 0.303\n",
      " 0.449 0.022 0.033 0.041 0.208 0.048 0.435 0.163 0.052 0.053 0.146 0.068\n",
      " 0.031] cat\n",
      "[0.027 0.045 0.    0.08  0.367 0.056 0.    0.048 0.115 0.014 0.023 0.261\n",
      " 0.205 0.04  0.027 0.013 0.061 0.025 0.421 0.073 0.067 0.042 0.039 0.043\n",
      " 0.009] cow\n",
      "[0.018 0.079 0.294 0.023 0.015 0.105 0.    0.02  0.097 0.031 0.022 0.301\n",
      " 0.46  0.004 0.06  0.014 0.075 0.049 0.742 0.062 0.054 0.042 0.072 0.078\n",
      " 0.011] dog\n",
      "[0.005 0.054 0.119 0.013 0.023 0.092 0.    0.017 0.053 0.012 0.003 0.128\n",
      " 0.123 0.002 0.039 0.009 0.03  0.052 0.082 0.017 0.961 0.05  0.01  0.034\n",
      " 0.012] horse\n",
      "[0.002 0.441 0.45  0.206 0.005 0.147 0.003 0.026 0.079 0.019 0.006 0.103\n",
      " 0.132 0.03  0.432 0.548 0.007 0.048 0.008 0.001 0.01  0.071 0.021 0.024\n",
      " 0.084] arm\n",
      "[0.006 0.042 0.187 0.029 0.022 0.328 0.001 0.042 0.059 0.009 0.004 0.025\n",
      " 0.794 0.011 0.027 0.105 0.011 0.3   0.011 0.003 0.325 0.007 0.095 0.034\n",
      " 0.008] eye\n",
      "[0.007 0.282 0.243 0.153 0.034 0.388 0.    0.039 0.212 0.054 0.001 0.131\n",
      " 0.265 0.105 0.481 0.229 0.036 0.478 0.016 0.009 0.051 0.097 0.032 0.038\n",
      " 0.092] foot\n",
      "[0.009 0.319 0.508 0.299 0.029 0.309 0.01  0.077 0.173 0.031 0.008 0.205\n",
      " 0.47  0.166 0.068 0.153 0.082 0.031 0.028 0.006 0.016 0.262 0.069 0.061\n",
      " 0.11 ] hand\n",
      "[0.001 0.125 0.129 0.046 0.001 0.279 0.    0.01  0.031 0.008 0.    0.111\n",
      " 0.07  0.034 0.821 0.427 0.003 0.091 0.011 0.003 0.011 0.047 0.018 0.013\n",
      " 0.038] leg\n",
      "[0.    0.654 0.093 0.002 0.002 0.122 0.    0.08  0.619 0.009 0.004 0.075\n",
      " 0.2   0.    0.064 0.024 0.021 0.    0.012 0.036 0.007 0.07  0.238 0.21\n",
      " 0.002] apartment\n",
      "[0.    0.055 0.71  0.004 0.002 0.485 0.    0.094 0.436 0.009 0.003 0.092\n",
      " 0.148 0.001 0.008 0.025 0.021 0.104 0.006 0.025 0.041 0.037 0.054 0.099\n",
      " 0.   ] barn\n",
      "[0.001 0.112 0.762 0.01  0.025 0.265 0.    0.071 0.325 0.033 0.025 0.143\n",
      " 0.395 0.    0.042 0.004 0.101 0.022 0.005 0.001 0.019 0.099 0.018 0.153\n",
      " 0.005] church\n",
      "[0.002 0.224 0.27  0.005 0.011 0.837 0.001 0.044 0.21  0.016 0.013 0.223\n",
      " 0.148 0.    0.108 0.007 0.035 0.011 0.018 0.012 0.013 0.058 0.166 0.114\n",
      " 0.009] house\n",
      "[0.    0.    0.204 0.    0.    0.649 0.    0.067 0.067 0.    0.    0.\n",
      " 0.42  0.    0.    0.    0.    0.    0.564 0.    0.    0.    0.    0.181\n",
      " 0.   ] igloo\n",
      "[0.    0.268 0.244 0.127 0.024 0.422 0.    0.054 0.614 0.06  0.009 0.129\n",
      " 0.474 0.007 0.047 0.053 0.012 0.015 0.035 0.    0.018 0.075 0.185 0.032\n",
      " 0.004] arch\n",
      "[0.    0.027 0.119 0.03  0.    0.1   0.    0.126 0.276 0.003 0.002 0.205\n",
      " 0.175 0.    0.015 0.006 0.003 0.033 0.002 0.008 0.    0.07  0.893 0.074\n",
      " 0.037] chimney\n",
      "[0.    0.059 0.161 0.001 0.017 0.768 0.    0.121 0.057 0.013 0.002 0.094\n",
      " 0.258 0.002 0.008 0.009 0.009 0.031 0.013 0.007 0.    0.013 0.515 0.143\n",
      " 0.01 ] closet\n",
      "[0.    0.017 0.037 0.003 0.001 0.996 0.    0.002 0.031 0.008 0.003 0.027\n",
      " 0.029 0.    0.012 0.008 0.027 0.001 0.001 0.    0.001 0.015 0.003 0.036\n",
      " 0.024] door\n",
      "[0.    0.012 0.008 0.002 0.    0.998 0.    0.004 0.009 0.002 0.001 0.01\n",
      " 0.05  0.    0.008 0.002 0.002 0.002 0.001 0.    0.001 0.007 0.003 0.014\n",
      " 0.001] window\n",
      "[0.003 0.04  0.127 0.028 0.001 0.58  0.    0.054 0.016 0.007 0.002 0.045\n",
      " 0.161 0.018 0.009 0.012 0.004 0.739 0.003 0.009 0.105 0.194 0.136 0.011\n",
      " 0.019] coat\n",
      "[0.023 0.017 0.092 0.014 0.001 0.474 0.    0.006 0.014 0.003 0.003 0.027\n",
      " 0.198 0.001 0.002 0.037 0.003 0.843 0.034 0.001 0.016 0.101 0.043 0.006\n",
      " 0.016] dress\n",
      "[0.001 0.013 0.063 0.013 0.01  0.616 0.    0.012 0.004 0.007 0.003 0.017\n",
      " 0.102 0.012 0.066 0.004 0.006 0.773 0.007 0.005 0.047 0.004 0.027 0.005\n",
      " 0.015] pants\n",
      "[0.003 0.011 0.302 0.036 0.015 0.554 0.    0.008 0.005 0.002 0.004 0.058\n",
      " 0.177 0.006 0.045 0.075 0.002 0.739 0.036 0.006 0.034 0.011 0.095 0.017\n",
      " 0.022] shirt\n",
      "[0.    0.013 0.045 0.016 0.    0.288 0.    0.002 0.005 0.    0.    0.02\n",
      " 0.083 0.009 0.734 0.311 0.    0.52  0.001 0.    0.028 0.001 0.016 0.\n",
      " 0.025] skirt\n",
      "[0.007 0.207 0.322 0.048 0.02  0.489 0.011 0.081 0.59  0.038 0.039 0.212\n",
      " 0.34  0.019 0.086 0.114 0.073 0.085 0.107 0.013 0.021 0.074 0.192 0.045\n",
      " 0.062] bed\n",
      "[0.    0.137 0.285 0.041 0.003 0.141 0.    0.029 0.06  0.008 0.01  0.026\n",
      " 0.117 0.003 0.026 0.92  0.022 0.002 0.007 0.001 0.031 0.01  0.014 0.004\n",
      " 0.102] chair\n",
      "[0.    0.115 0.273 0.022 0.001 0.862 0.    0.029 0.193 0.054 0.014 0.106\n",
      " 0.267 0.002 0.014 0.078 0.012 0.002 0.038 0.001 0.033 0.022 0.187 0.015\n",
      " 0.024] desk\n",
      "[0.    0.192 0.444 0.019 0.    0.812 0.    0.057 0.164 0.011 0.    0.027\n",
      " 0.247 0.043 0.    0.    0.    0.008 0.    0.    0.    0.022 0.108 0.\n",
      " 0.026] dresser\n",
      "[0.002 0.044 0.046 0.01  0.001 0.087 0.001 0.033 0.032 0.015 0.002 0.022\n",
      " 0.992 0.001 0.012 0.025 0.003 0.004 0.017 0.    0.002 0.009 0.011 0.02\n",
      " 0.008] table\n",
      "[0.006 0.074 0.156 0.005 0.005 0.13  0.003 0.005 0.017 0.023 0.004 0.944\n",
      " 0.198 0.006 0.017 0.016 0.016 0.003 0.062 0.    0.015 0.01  0.132 0.016\n",
      " 0.   ] ant\n",
      "[0.004 0.099 0.596 0.013 0.02  0.099 0.008 0.014 0.054 0.175 0.08  0.148\n",
      " 0.671 0.002 0.302 0.018 0.053 0.021 0.092 0.027 0.067 0.022 0.04  0.046\n",
      " 0.015] bee\n",
      "[0.    0.064 0.379 0.    0.    0.203 0.    0.011 0.013 0.    0.    0.06\n",
      " 0.256 0.    0.014 0.016 0.014 0.045 0.487 0.    0.063 0.702 0.063 0.025\n",
      " 0.011] beetle\n",
      "[0.004 0.044 0.252 0.103 0.039 0.751 0.    0.057 0.087 0.004 0.081 0.14\n",
      " 0.51  0.018 0.146 0.01  0.037 0.141 0.064 0.003 0.05  0.06  0.013 0.009\n",
      " 0.093] butterfly\n",
      "[0.001 0.026 0.145 0.017 0.027 0.196 0.002 0.006 0.048 0.023 0.005 0.118\n",
      " 0.23  0.    0.037 0.019 0.043 0.027 0.023 0.001 0.045 0.929 0.01  0.009\n",
      " 0.005] fly\n",
      "[0.033 0.015 0.166 0.062 0.005 0.821 0.    0.477 0.026 0.003 0.003 0.031\n",
      " 0.127 0.033 0.154 0.033 0.019 0.016 0.012 0.01  0.006 0.077 0.113 0.016\n",
      " 0.054] bottle\n",
      "[0.097 0.053 0.18  0.056 0.036 0.885 0.    0.291 0.014 0.006 0.005 0.19\n",
      " 0.133 0.014 0.044 0.122 0.002 0.034 0.025 0.    0.037 0.05  0.044 0.055\n",
      " 0.027] cup\n",
      "[0.011 0.027 0.137 0.103 0.006 0.279 0.003 0.663 0.048 0.01  0.004 0.035\n",
      " 0.356 0.014 0.52  0.083 0.033 0.021 0.025 0.005 0.025 0.014 0.203 0.02\n",
      " 0.022] glass\n",
      "[0.002 0.047 0.204 0.244 0.073 0.802 0.    0.013 0.115 0.03  0.005 0.32\n",
      " 0.257 0.006 0.049 0.039 0.006 0.053 0.106 0.    0.002 0.128 0.157 0.042\n",
      " 0.069] knife\n",
      "[0.074 0.042 0.142 0.006 0.    0.523 0.    0.103 0.017 0.01  0.011 0.299\n",
      " 0.103 0.019 0.085 0.093 0.006 0.    0.741 0.    0.002 0.037 0.139 0.004\n",
      " 0.049] spoon\n",
      "[0.002 0.044 0.779 0.026 0.004 0.182 0.    0.006 0.056 0.011 0.419 0.146\n",
      " 0.209 0.001 0.03  0.011 0.217 0.027 0.023 0.    0.048 0.086 0.011 0.036\n",
      " 0.231] bell\n",
      "[0.003 0.166 0.276 0.092 0.028 0.213 0.003 0.045 0.055 0.122 0.013 0.072\n",
      " 0.336 0.001 0.058 0.006 0.028 0.012 0.011 0.    0.005 0.168 0.014 0.818\n",
      " 0.038] key\n",
      "[0.01  0.057 0.08  0.04  0.    0.894 0.    0.157 0.05  0.    0.    0.087\n",
      " 0.102 0.001 0.027 0.006 0.011 0.    0.099 0.01  0.    0.017 0.362 0.039\n",
      " 0.01 ] refrigerator\n",
      "[0.    0.017 0.468 0.143 0.007 0.154 0.    0.01  0.042 0.008 0.029 0.033\n",
      " 0.775 0.    0.029 0.016 0.034 0.005 0.    0.    0.001 0.03  0.006 0.358\n",
      " 0.011] telephone\n",
      "[0.001 0.027 0.156 0.015 0.006 0.562 0.    0.007 0.006 0.003 0.782 0.04\n",
      " 0.179 0.001 0.013 0.003 0.021 0.026 0.049 0.001 0.016 0.098 0.013 0.008\n",
      " 0.003] watch\n",
      "[0.    0.02  0.035 0.642 0.    0.14  0.015 0.012 0.    0.    0.    0.022\n",
      " 0.028 0.012 0.104 0.737 0.    0.024 0.    0.    0.    0.096 0.034 0.\n",
      " 0.011] chisel\n",
      "[0.001 0.027 0.215 0.937 0.014 0.12  0.    0.011 0.014 0.023 0.005 0.022\n",
      " 0.117 0.001 0.129 0.051 0.016 0.061 0.01  0.003 0.006 0.143 0.009 0.007\n",
      " 0.019] hammer\n",
      "[0.    0.04  0.013 0.075 0.    0.977 0.    0.    0.013 0.    0.    0.\n",
      " 0.066 0.    0.11  0.015 0.    0.    0.    0.    0.    0.084 0.    0.\n",
      " 0.12 ] pliers\n",
      "[0.002 0.052 0.934 0.011 0.019 0.131 0.    0.009 0.028 0.019 0.003 0.064\n",
      " 0.226 0.    0.023 0.018 0.219 0.006 0.008 0.004 0.014 0.032 0.005 0.031\n",
      " 0.004] saw\n",
      "[0.    0.078 0.036 0.033 0.    0.838 0.    0.019 0.019 0.    0.    0.011\n",
      " 0.112 0.    0.057 0.081 0.006 0.    0.    0.    0.    0.341 0.028 0.\n",
      " 0.386] screwdriver\n",
      "[0.063 0.008 0.242 0.    0.    0.015 0.    0.03  0.012 0.883 0.    0.004\n",
      " 0.13  0.    0.007 0.    0.    0.    0.368 0.02  0.005 0.056 0.    0.\n",
      " 0.003] carrot\n",
      "[0.346 0.    0.016 0.029 0.    0.06  0.    0.315 0.    0.    0.    0.\n",
      " 0.243 0.    0.    0.    0.    0.    0.837 0.059 0.    0.    0.115 0.\n",
      " 0.   ] celery\n",
      "[0.108 0.027 0.365 0.005 0.    0.161 0.005 0.19  0.112 0.003 0.005 0.057\n",
      " 0.224 0.009 0.014 0.003 0.068 0.004 0.785 0.04  0.035 0.011 0.054 0.316\n",
      " 0.013] corn\n",
      "[0.056 0.    0.116 0.021 0.    0.015 0.    0.108 0.031 0.006 0.    0.004\n",
      " 0.065 0.    0.026 0.    0.    0.    0.979 0.    0.    0.005 0.082 0.\n",
      " 0.   ] lettuce\n",
      "[0.173 0.    0.919 0.173 0.005 0.056 0.    0.082 0.039 0.    0.    0.017\n",
      " 0.123 0.022 0.01  0.    0.002 0.006 0.26  0.02  0.007 0.011 0.009 0.014\n",
      " 0.   ] tomato\n",
      "[0.    0.052 0.201 0.048 0.019 0.114 0.    0.032 0.166 0.048 0.015 0.052\n",
      " 0.221 0.    0.028 0.072 0.066 0.001 0.024 0.005 0.918 0.023 0.019 0.056\n",
      " 0.024] airplane\n",
      "[0.    0.009 0.027 0.001 0.002 0.032 0.    0.002 0.017 0.003 0.001 0.023\n",
      " 0.03  0.    0.004 0.011 0.003 0.056 0.001 0.    0.996 0.032 0.001 0.004\n",
      " 0.006] bicycle\n",
      "[0.    0.088 0.121 0.027 0.003 0.195 0.    0.046 0.289 0.026 0.016 0.19\n",
      " 0.384 0.001 0.093 0.057 0.032 0.016 0.012 0.019 0.201 0.778 0.083 0.038\n",
      " 0.034] car\n",
      "[0.    0.061 0.085 0.005 0.008 0.059 0.    0.02  0.246 0.039 0.009 0.205\n",
      " 0.095 0.    0.039 0.009 0.06  0.005 0.016 0.001 0.791 0.489 0.004 0.031\n",
      " 0.011] train\n",
      "[0.    0.173 0.109 0.021 0.005 0.149 0.    0.054 0.182 0.015 0.002 0.165\n",
      " 0.163 0.    0.029 0.75  0.018 0.004 0.003 0.004 0.089 0.521 0.037 0.022\n",
      " 0.023] truck\n"
     ]
    }
   ],
   "source": [
    "# for i in range(30):\n",
    "#     print i, X[i]\n",
    "\n",
    "for i in range(60):\n",
    "    print y[i], X[i]"
   ]
  },
  {
   "cell_type": "code",
   "execution_count": 107,
   "metadata": {},
   "outputs": [],
   "source": [
    "# Loading data\n",
    "\n",
    "data = loadmat('/Users/piyush.kumar/Documents/Archive/fMRI_project/data/data-science-P1.mat')\n",
    "raw_data = []\n",
    "cond_number = []\n",
    "word = data['info']['word'][0]\n",
    "words = list()\n",
    "for i in word:\n",
    "    words.append(str(i[0]))\n",
    "\n",
    "for i in range(360):\n",
    "    temp = np.array(data['data'][i][0][0])\n",
    "    raw_data.append(temp)"
   ]
  },
  {
   "cell_type": "code",
   "execution_count": 108,
   "metadata": {},
   "outputs": [],
   "source": [
    "verb_vs = list()\n",
    "X = list(X)\n",
    "for word in words:\n",
    "    i = X.index(word)\n",
    "    verb_vs.append(y[i])"
   ]
  },
  {
   "cell_type": "code",
   "execution_count": 109,
   "metadata": {},
   "outputs": [
    {
     "data": {
      "text/plain": [
       "(360, 25)"
      ]
     },
     "execution_count": 109,
     "metadata": {},
     "output_type": "execute_result"
    }
   ],
   "source": [
    "verb_vs = np.array(verb_vs)\n",
    "verb_vs.shape"
   ]
  },
  {
   "cell_type": "code",
   "execution_count": 110,
   "metadata": {},
   "outputs": [],
   "source": [
    "from sklearn import linear_model"
   ]
  },
  {
   "cell_type": "code",
   "execution_count": 111,
   "metadata": {},
   "outputs": [],
   "source": [
    "X_total = np.array(raw_data)\n",
    "y_total = np.array(verb_vs)"
   ]
  },
  {
   "cell_type": "code",
   "execution_count": 114,
   "metadata": {},
   "outputs": [],
   "source": [
    "x = X_total\n",
    "\n",
    "xmax, xmin = x.max(), x.min()\n",
    "x = (x - xmin)/(xmax - xmin)\n",
    "\n",
    "X_total = x"
   ]
  },
  {
   "cell_type": "code",
   "execution_count": 129,
   "metadata": {},
   "outputs": [
    {
     "data": {
      "text/plain": [
       "0.0"
      ]
     },
     "execution_count": 129,
     "metadata": {},
     "output_type": "execute_result"
    }
   ],
   "source": [
    "X_total.shape\n",
    "X_total.min()"
   ]
  },
  {
   "cell_type": "code",
   "execution_count": 130,
   "metadata": {},
   "outputs": [],
   "source": [
    "X_train = X_total[:300]\n",
    "X_test = X_total[300:]\n",
    "\n",
    "y_train = y_total[:300]\n",
    "y_test = y_total[300:]"
   ]
  },
  {
   "cell_type": "code",
   "execution_count": 134,
   "metadata": {
    "scrolled": true
   },
   "outputs": [],
   "source": [
    "regr = list()\n",
    "\n",
    "for i in range(25):\n",
    "    regr.append(linear_model.LinearRegression())\n",
    "    regr[i].fit(X_train, y_train[:, i])"
   ]
  },
  {
   "cell_type": "code",
   "execution_count": 136,
   "metadata": {},
   "outputs": [
    {
     "data": {
      "text/plain": [
       "25"
      ]
     },
     "execution_count": 136,
     "metadata": {},
     "output_type": "execute_result"
    }
   ],
   "source": [
    "len(regr)"
   ]
  },
  {
   "cell_type": "code",
   "execution_count": 132,
   "metadata": {},
   "outputs": [],
   "source": [
    "test = X_train[1]\n",
    "\n",
    "test = test.reshape(1, 21764)"
   ]
  },
  {
   "cell_type": "code",
   "execution_count": 133,
   "metadata": {},
   "outputs": [
    {
     "data": {
      "text/plain": [
       "(array([ 0.0089598 ,  0.13210741,  0.03271163,  0.08490259,  0.04193033,\n",
       "         0.04816132,  0.19825593,  0.08534313,  0.02930203,  0.09518013,\n",
       "         0.02278513,  0.14663281,  0.03315345,  0.10626168,  0.04605968,\n",
       "         0.14634152,  0.13429848,  0.08721714,  0.07818539,  0.12552664,\n",
       "         0.02384064,  0.0051026 ,  0.07114895, -0.00678449,  0.0961333 ,\n",
       "         0.0632645 ,  0.09047723,  0.0102801 ,  0.12131648,  0.03038018,\n",
       "         0.0453674 ,  0.14666951,  0.00879077,  0.02234592,  0.09408962,\n",
       "         0.07447507,  0.0299237 ,  0.02487969,  0.06690055,  0.03214059,\n",
       "         0.20839327,  0.08923267,  0.07199703,  0.15894196,  0.04573139,\n",
       "         0.08919355,  0.0950562 ,  0.12551707, -0.01419266,  0.03522393,\n",
       "         0.02217841,  0.08486323,  0.15468071,  0.09858008,  0.20554997,\n",
       "         0.12512681,  0.11904903, -0.09101644,  0.01257059,  0.114937  ]),\n",
       " array([0.064, 0.015, 0.054, 0.012, 0.011, 0.053, 0.   , 0.047, 0.026,\n",
       "        0.013, 0.088, 0.192, 0.055, 0.112, 0.044, 0.282, 0.115, 0.166,\n",
       "        0.017, 0.061, 0.099, 0.057, 0.173, 0.027, 0.   , 0.017, 0.044,\n",
       "        0.054, 0.088, 0.   , 0.04 , 0.027, 0.027, 0.137, 0.207, 0.013,\n",
       "        0.074, 0.008, 0.027, 0.02 , 0.654, 0.125, 0.044, 0.319, 0.04 ,\n",
       "        0.042, 0.079, 0.441, 0.   , 0.042, 0.017, 0.078, 0.052, 0.027,\n",
       "        0.268, 0.059, 0.224, 0.045, 0.052, 0.009]))"
      ]
     },
     "execution_count": 133,
     "metadata": {},
     "output_type": "execute_result"
    }
   ],
   "source": [
    "regr.predict(X_test), y_test[:, 1]"
   ]
  },
  {
   "cell_type": "code",
   "execution_count": 139,
   "metadata": {},
   "outputs": [],
   "source": [
    "output = list()\n",
    "for i in range(len(regr)):\n",
    "    output.append(regr[i].predict(X_test))"
   ]
  },
  {
   "cell_type": "code",
   "execution_count": 141,
   "metadata": {},
   "outputs": [],
   "source": [
    "output = np.array(output)"
   ]
  },
  {
   "cell_type": "code",
   "execution_count": 144,
   "metadata": {},
   "outputs": [
    {
     "data": {
      "text/plain": [
       "array([[-0.00803951, -0.02317235, -0.00304763, ...,  0.03193487,\n",
       "         0.07999603,  0.01679515],\n",
       "       [ 0.0089598 ,  0.13210741,  0.03271163, ..., -0.09101644,\n",
       "         0.01257059,  0.114937  ],\n",
       "       [ 0.22207812,  0.13211528,  0.20650154, ...,  0.16361468,\n",
       "         0.12081666,  0.3244188 ],\n",
       "       ...,\n",
       "       [-0.04131353,  0.05421502, -0.02170272, ...,  0.08587525,\n",
       "         0.06646109,  0.03439623],\n",
       "       [ 0.04393899,  0.0081248 ,  0.07830251, ...,  0.00289018,\n",
       "         0.0509843 ,  0.06874566],\n",
       "       [ 0.03359146,  0.04080928, -0.01257819, ...,  0.03444911,\n",
       "         0.10986459,  0.01285128]])"
      ]
     },
     "execution_count": 144,
     "metadata": {},
     "output_type": "execute_result"
    }
   ],
   "source": [
    "output"
   ]
  },
  {
   "cell_type": "code",
   "execution_count": 147,
   "metadata": {},
   "outputs": [
    {
     "data": {
      "text/plain": [
       "((60, 25), (60, 25))"
      ]
     },
     "execution_count": 147,
     "metadata": {},
     "output_type": "execute_result"
    }
   ],
   "source": [
    "output = np.transpose(output)\n",
    "output.shape, y_test.shape"
   ]
  },
  {
   "cell_type": "code",
   "execution_count": 164,
   "metadata": {},
   "outputs": [
    {
     "name": "stdout",
     "output_type": "stream",
     "text": [
      "0.6319093733411523\n",
      "0.4936360963309613\n",
      "0.2738318041662416\n",
      "0.5301600496269212\n",
      "0.147693244485346\n",
      "0.6234052712217663\n",
      "0.3239186759364715\n",
      "0.6956337197613529\n",
      "0.45755763094614893\n",
      "0.0568597546793185\n",
      "0.5470653594626789\n",
      "0.598340293320644\n",
      "0.4257306633170009\n",
      "0.4187401962397308\n",
      "0.23869339612414014\n",
      "0.14443926966570805\n",
      "0.6330134658029678\n",
      "0.08463259743669811\n",
      "0.5339411272781288\n",
      "0.3452464206840209\n",
      "0.3403068649542352\n",
      "0.5326996336280932\n",
      "0.4466554658213399\n",
      "0.14586705769265165\n",
      "0.36439752965840144\n",
      "0.0248516425234782\n",
      "0.6044669218758171\n",
      "0.3656545444606329\n",
      "0.4834984423015309\n",
      "0.29224461993886963\n",
      "0.14438261563030277\n",
      "0.15041404074661538\n",
      "0.3993165357367309\n",
      "0.3200401528480168\n",
      "0.46862303312686854\n",
      "-0.061617725828171155\n",
      "0.4186647119839867\n",
      "0.07111458444650136\n",
      "0.03833588606372565\n",
      "0.20334853768303715\n",
      "0.008836025086717804\n",
      "0.16903858871759322\n",
      "0.35930132657129155\n",
      "0.5758401070352906\n",
      "0.5491570047323325\n",
      "0.3168500085980374\n",
      "0.5146251079585887\n",
      "0.29784978347215907\n",
      "0.6270655515092812\n",
      "0.6890209893740937\n",
      "0.27962667116225076\n",
      "0.6052128782071996\n",
      "0.28528912007997276\n",
      "0.3270232643805848\n",
      "0.38585883498186957\n",
      "0.44721724392926165\n",
      "0.590952826351411\n",
      "0.275869727621723\n",
      "0.35472743213228636\n",
      "0.1627644654015306\n"
     ]
    }
   ],
   "source": [
    "np.save('output.npy', output)\n",
    "for i in range(60):\n",
    "    print numpy.corrcoef(output[7], y_test[i])[0,1]"
   ]
  },
  {
   "cell_type": "code",
   "execution_count": null,
   "metadata": {},
   "outputs": [],
   "source": []
  }
 ],
 "metadata": {
  "kernelspec": {
   "display_name": "Python 2",
   "language": "python",
   "name": "python2"
  },
  "language_info": {
   "codemirror_mode": {
    "name": "ipython",
    "version": 2
   },
   "file_extension": ".py",
   "mimetype": "text/x-python",
   "name": "python",
   "nbconvert_exporter": "python",
   "pygments_lexer": "ipython2",
   "version": "2.7.10"
  }
 },
 "nbformat": 4,
 "nbformat_minor": 2
}
