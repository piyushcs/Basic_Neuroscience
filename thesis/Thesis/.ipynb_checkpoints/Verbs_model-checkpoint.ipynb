{
 "cells": [
  {
   "cell_type": "code",
   "execution_count": 1,
   "metadata": {},
   "outputs": [],
   "source": [
    "import numpy as np\n",
    "import itertools\n",
    "pairs = []\n",
    "for l in itertools.combinations(range(5), 2):\n",
    "    pairs.append(l)"
   ]
  },
  {
   "cell_type": "code",
   "execution_count": 2,
   "metadata": {},
   "outputs": [],
   "source": [
    "from sklearn.svm import LinearSVC\n",
    "import sklearn\n",
    "from sklearn.linear_model import LinearRegression\n",
    "from sklearn.linear_model import LogisticRegression\n",
    "from sklearn.multiclass import OneVsRestClassifier, OneVsOneClassifier\n",
    "from scipy.io import loadmat\n",
    "from sklearn import preprocessing\n",
    "from random import randint\n",
    "import matplotlib.pyplot as plt\n",
    "import matplotlib as mpl\n",
    "from sklearn.decomposition import PCA\n",
    "%matplotlib inline"
   ]
  },
  {
   "cell_type": "code",
   "execution_count": 3,
   "metadata": {},
   "outputs": [],
   "source": [
    "def train_test_split(split_part):\n",
    "    og_data = np.load('og_data1.npy')\n",
    "    labels = np.load('labels1.npy')\n",
    "    \n",
    "    # Label encoder\n",
    "    le = preprocessing.LabelEncoder()\n",
    "    le.fit(labels)\n",
    "    labels = le.transform(labels)\n",
    "    x_train, x_test, y_train, y_test = [], [], [], []\n",
    "\n",
    "    smin = 0\n",
    "    smax = 1\n",
    "    x = og_data\n",
    "    xmax, xmin = x.max(), x.min()\n",
    "    norm_data = (x - xmin)*(smax - smin)/(xmax - xmin) + smin\n",
    "\n",
    "    # Sorting the data\n",
    "    sorted_index = np.argsort(labels)\n",
    "    sorted_labels = labels[sorted_index]\n",
    "    sorted_og_data = og_data[sorted_index]\n",
    "    sorted_norm_data = norm_data[sorted_index]\n",
    "\n",
    "    # split the data into train and test\n",
    "    test_random_indices = []\n",
    "    for i in range(sorted_labels.shape[0]/split_part):\n",
    "        index = i*split_part + randint(0, split_part - 1)\n",
    "        test_random_indices.append(index)\n",
    "\n",
    "    x_train = np.delete(sorted_norm_data, test_random_indices, 0)\n",
    "    x_test = sorted_norm_data[test_random_indices]\n",
    "    y_train = np.delete(sorted_labels, test_random_indices)\n",
    "    y_test = sorted_labels[test_random_indices]\n",
    "    \n",
    "    return x_train, x_test, y_train, y_test"
   ]
  },
  {
   "cell_type": "code",
   "execution_count": 4,
   "metadata": {},
   "outputs": [],
   "source": [
    "def plot(img):\n",
    "#     x_train, x_test, y_train, y_test = train_test_split(6)\n",
    "    fig = plt.figure(figsize=(14, 12))\n",
    "    columns = 5\n",
    "    rows = 5\n",
    "    for i in range(columns*rows):\n",
    "        fig.add_subplot(rows, columns, i+1)\n",
    "        plt.imshow(img[:,:, i])\n",
    "        plt.axis('off')\n",
    "    fig.subplots_adjust(wspace=0.01, hspace=0.01)\n",
    "    plt.savefig(\"/Users/piyush.kumar/Desktop/demo_data/airplane_voxe400.png\", bbox_inches='tight', frameon=False)\n",
    "# plot(og)"
   ]
  },
  {
   "cell_type": "code",
   "execution_count": 5,
   "metadata": {},
   "outputs": [],
   "source": [
    "def get_verbs():\n",
    "    layer_2 = np.load('keras/verb_vectors.npy')\n",
    "    labels = np.load('keras/verb_labels.npy')\n",
    "    \n",
    "    x_train, x_test, y_train, y_test = train_test_split(6)\n",
    "    \n",
    "    le = preprocessing.LabelEncoder()\n",
    "    le.fit(labels)\n",
    "    labels = list(le.transform(labels))\n",
    "    \n",
    "    layer_2_train = []\n",
    "    for yl in y_train:\n",
    "        i = labels.index(yl)\n",
    "        layer_2_train.append(layer_2[i])\n",
    "\n",
    "    layer_2_test = []\n",
    "    for yt in y_test:\n",
    "        i = labels.index(yt)\n",
    "        layer_2_test.append(layer_2[i])\n",
    "\n",
    "    return x_train, x_test, y_train, y_test, np.array(layer_2_train), np.array(layer_2_test)\n",
    "\n",
    "def get_mat(x_train):\n",
    "    voxel_corr_matrix = []\n",
    "    for i in range(x_train.shape[1]):\n",
    "        voxel = x_train[:, i]\n",
    "        pre_corr_matrix = []\n",
    "        for j in range(60):\n",
    "            k = j*5\n",
    "            pre_corr_matrix.append(voxel[k:k+5])\n",
    "\n",
    "        voxel_corr_matrix.append(np.transpose(pre_corr_matrix))\n",
    "\n",
    "    voxel_corr_matrix = np.asarray(voxel_corr_matrix)\n",
    "    \n",
    "    return voxel_corr_matrix"
   ]
  },
  {
   "cell_type": "code",
   "execution_count": null,
   "metadata": {},
   "outputs": [],
   "source": [
    "LogisticRegressionr = []\n",
    "for i in range(10):\n",
    "    x_train, x_test, y_train, y_test, layer_2_train, layer_2_test = get_verbs()\n",
    "\n",
    "#     voxel_corr_matrix = get_mat(x_train)\n",
    "\n",
    "#     corr_arr = []\n",
    "#     for i in range(voxel_corr_matrix.shape[0]):\n",
    "#         voxel = voxel_corr_matrix[i]\n",
    "#         corr = 0.0\n",
    "#         for pair in pairs:\n",
    "#             corr += np.corrcoef(voxel[pair[0]], voxel[pair[1]])[0, 1]\n",
    "#         corr_arr.append(corr/len(pairs))\n",
    "\n",
    "#     c_a = np.asarray(corr_arr)\n",
    "#     sorted_index = np.argsort(c_a)[::-1]\n",
    "\n",
    "#     x_t = x_train[:, sorted_index[:300]]\n",
    "#     x_ts = x_test[:, sorted_index[:300]]\n",
    "    x_t = x_train\n",
    "    x_ts = x_test\n",
    "\n",
    "    clf = LinearSVC()\n",
    "    clf.fit(x_t, y_train)\n",
    "\n",
    "    results_top = []\n",
    "    for i in [1, 3, 5, 10]:\n",
    "        predicted_correct = 0\n",
    "        for k in range(y_test.shape[0]):\n",
    "            o = x_ts[k]\n",
    "            o = o.reshape(1, -1)\n",
    "            decision_lbl = clf.decision_function(o)[0]\n",
    "            top_class = i\n",
    "            top_n = np.argsort(decision_lbl)[::-1][:top_class]\n",
    "            if y_test[k] in top_n:\n",
    "                predicted_correct += 1.0/60\n",
    "        print predicted_correct\n",
    "        results_top.append(predicted_correct)\n",
    "    LogisticRegressionr.append(results_top)"
   ]
  },
  {
   "cell_type": "code",
   "execution_count": null,
   "metadata": {},
   "outputs": [],
   "source": [
    "print np.average(LogisticRegressionr, axis=0)\n",
    "print np.std(LogisticRegressionr, axis=0)"
   ]
  },
  {
   "cell_type": "code",
   "execution_count": 167,
   "metadata": {},
   "outputs": [
    {
     "data": {
      "text/plain": [
       "(21764,)"
      ]
     },
     "execution_count": 167,
     "metadata": {},
     "output_type": "execute_result"
    }
   ],
   "source": [
    "noise = sorted_index[400:]\n",
    "\n",
    "og_img = x_train[0]\n",
    "\n",
    "reduced_img = np.copy(og_img)\n",
    "\n",
    "reduced_img[noise] = 0.0\n",
    "np.unique(x_train[0]).shape"
   ]
  },
  {
   "cell_type": "code",
   "execution_count": 168,
   "metadata": {},
   "outputs": [
    {
     "name": "stdout",
     "output_type": "stream",
     "text": [
      "(51, 61, 25)\n"
     ]
    }
   ],
   "source": [
    "val_index = loadmat('/Users/piyush.kumar/Documents/Archive/fMRI_project/data/val.mat')\n",
    "val = val_index['X']\n",
    "np_val = np.array(val, dtype=float)\n",
    "for i in range(val.shape[0]):\n",
    "    for j in range(val.shape[1]):\n",
    "        for k in range(val.shape[2]):\n",
    "            index = val[i][j][k]\n",
    "            if index != 0:\n",
    "                np_val[i][j][k] = reduced_img[index-1]\n",
    "\n",
    "og = np.pad(np_val, ((0, 0), (0, 0), (1, 1)), 'constant', constant_values=(0.0))\n",
    "print og.shape"
   ]
  },
  {
   "cell_type": "code",
   "execution_count": 169,
   "metadata": {},
   "outputs": [
    {
     "data": {
      "image/png": "[encoded data removed]",
      "text/plain": [
       "<Figure size 1008x864 with 25 Axes>"
      ]
     },
     "metadata": {},
     "output_type": "display_data"
    }
   ],
   "source": [
    "plot(og)"
   ]
  },
  {
   "cell_type": "code",
   "execution_count": 43,
   "metadata": {},
   "outputs": [
    {
     "name": "stdout",
     "output_type": "stream",
     "text": [
      "0.483333333333\n",
      "0.716666666667\n",
      "0.783333333333\n",
      "0.9\n"
     ]
    }
   ],
   "source": [
    "for i in [1, 3, 5, 10]:\n",
    "    predicted_correct = 0\n",
    "    for k in range(y_test.shape[0]):\n",
    "        o = x_ts[k]\n",
    "        o = o.reshape(1, -1)\n",
    "        decision_lbl = clf.decision_function(o)[0]\n",
    "        top_class = i\n",
    "        top_n = np.argsort(decision_lbl)[::-1][:top_class]\n",
    "        if y_test[k] in top_n:\n",
    "            predicted_correct += 1.0/60\n",
    "    print predicted_correct"
   ]
  },
  {
   "cell_type": "code",
   "execution_count": 20,
   "metadata": {},
   "outputs": [
    {
     "name": "stdout",
     "output_type": "stream",
     "text": [
      "(300, 1500) (300,) (300, 25) (60, 25) (60, 1500)\n"
     ]
    }
   ],
   "source": [
    "print x_t.shape, y_train.shape, layer_2_train.shape, layer_2_test.shape, x_ts.shape"
   ]
  },
  {
   "cell_type": "code",
   "execution_count": 64,
   "metadata": {},
   "outputs": [
    {
     "name": "stdout",
     "output_type": "stream",
     "text": [
      "(300, 5000)\n"
     ]
    },
    {
     "name": "stderr",
     "output_type": "stream",
     "text": [
      "/Users/piyush.kumar/thesis/lib/python2.7/site-packages/sklearn/linear_model/base.py:509: RuntimeWarning: internal gelsd driver lwork query error, required iwork dimension not returned. This is likely the result of LAPACK bug 0038, fixed in LAPACK 3.2.2 (released July 21, 2010). Falling back to 'gelss' driver.\n",
      "  linalg.lstsq(X, y)\n"
     ]
    }
   ],
   "source": [
    "print x_t.shape\n",
    "regr = LinearRegression()\n",
    "regr.fit(x_t, layer_2_train)\n",
    "\n",
    "output = regr.predict(x_ts)"
   ]
  },
  {
   "cell_type": "code",
   "execution_count": 65,
   "metadata": {},
   "outputs": [
    {
     "name": "stdout",
     "output_type": "stream",
     "text": [
      "0.183333333333\n",
      "0.35\n",
      "0.45\n",
      "0.583333333333\n"
     ]
    }
   ],
   "source": [
    "clf = LinearSVC()\n",
    "layer_2 = np.load('keras/verb_vectors.npy')\n",
    "labels = np.load('keras/verb_labels.npy')\n",
    "le = preprocessing.LabelEncoder()\n",
    "le.fit(labels)\n",
    "labels = list(le.transform(labels))\n",
    "\n",
    "clf.fit(layer_2, labels)\n",
    "\n",
    "for i in [1, 3, 5, 10]:\n",
    "    predicted_correct = 0\n",
    "    for k in range(y_test.shape[0]):\n",
    "        o = output[k]\n",
    "        o = o.reshape(1, -1)\n",
    "        decision_lbl = clf.decision_function(o)[0]\n",
    "        top_class = i\n",
    "        top_n = np.argsort(decision_lbl)[::-1][:top_class]\n",
    "        if y_test[k] in top_n:\n",
    "            predicted_correct += 1.0/60\n",
    "    print predicted_correct"
   ]
  },
  {
   "cell_type": "code",
   "execution_count": 92,
   "metadata": {},
   "outputs": [
    {
     "name": "stdout",
     "output_type": "stream",
     "text": [
      "11\n",
      "45\n",
      "39\n",
      "55\n",
      "11\n",
      "39\n",
      "32\n",
      "12\n",
      "9\n",
      "20\n",
      "19\n",
      "9\n",
      "24\n",
      "32\n",
      "39\n",
      "20\n",
      "53\n",
      "22\n",
      "9\n",
      "24\n",
      "52\n",
      "55\n",
      "1\n",
      "41\n",
      "52\n",
      "45\n",
      "53\n",
      "24\n",
      "45\n",
      "55\n",
      "45\n",
      "51\n",
      "55\n",
      "43\n",
      "52\n",
      "22\n",
      "45\n",
      "52\n",
      "45\n",
      "9\n",
      "51\n",
      "31\n",
      "19\n",
      "19\n",
      "37\n",
      "15\n",
      "12\n",
      "20\n",
      "55\n",
      "19\n",
      "11\n",
      "39\n",
      "11\n",
      "24\n",
      "53\n",
      "55\n",
      "29\n",
      "1\n",
      "39\n",
      "15\n"
     ]
    }
   ],
   "source": [
    "predicted_correct = 0\n",
    "\n",
    "predicted_labels = clf.predict(output)\n",
    "for i in range(y_test.shape[0]):\n",
    "    if predicted_labels[i] == y_test[i]:\n",
    "        predicted_correct += 1\n",
    "    print predicted_labels[i]"
   ]
  },
  {
   "cell_type": "code",
   "execution_count": 91,
   "metadata": {},
   "outputs": [
    {
     "data": {
      "text/plain": [
       "1"
      ]
     },
     "execution_count": 91,
     "metadata": {},
     "output_type": "execute_result"
    }
   ],
   "source": [
    "predicted_correct"
   ]
  },
  {
   "cell_type": "code",
   "execution_count": null,
   "metadata": {},
   "outputs": [],
   "source": []
  }
 ],
 "metadata": {
  "kernelspec": {
   "display_name": "Python 2",
   "language": "python",
   "name": "python2"
  },
  "language_info": {
   "codemirror_mode": {
    "name": "ipython",
    "version": 2
   },
   "file_extension": ".py",
   "mimetype": "text/x-python",
   "name": "python",
   "nbconvert_exporter": "python",
   "pygments_lexer": "ipython2",
   "version": "2.7.10"
  }
 },
 "nbformat": 4,
 "nbformat_minor": 2
}
