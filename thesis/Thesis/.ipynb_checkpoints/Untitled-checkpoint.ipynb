{
 "cells": [
  {
   "cell_type": "code",
   "execution_count": 11,
   "metadata": {},
   "outputs": [],
   "source": [
    "from keras.models import Sequential\n",
    "from keras.layers import Conv3D, MaxPooling3D, ZeroPadding3D, UpSampling3D, Input, Dense, ZeroPadding3D\n",
    "from keras.layers.core import Dense, Dropout, Flatten\n",
    "from keras.models import Model\n",
    "from keras.layers.convolutional import Convolution3D, MaxPooling3D, ZeroPadding3D\n",
    "from keras.optimizers import SGD\n",
    "import numpy as np\n",
    "\n",
    "batch_size = 1\n",
    "global num_classes \n",
    "num_classes = 60\n",
    "epochs = 5"
   ]
  },
  {
   "cell_type": "code",
   "execution_count": 7,
   "metadata": {},
   "outputs": [],
   "source": [
    "def get_model(summary=False):\n",
    "\t\"\"\" Return the Keras model of the network\n",
    "\t\"\"\"\n",
    "\tinput_shape = (51, 61, 23, 1)\n",
    "    input_img = Input(shape=input_shape)\n",
    "\n",
    "# x = ZeroPadding3D(padding=((2, 3),(2, 1),(1, 0)))(input_img)\n",
    "    x = Conv3D(32, (3, 3, 3), activation='relu', padding='same')(input_img)\n",
    "    x = MaxPooling3D((2, 2, 2), padding='same')(x)\n",
    "    x = Conv3D(64, (3, 3, 3), activation='relu', padding='same')(x)\n",
    "\n",
    "    x = MaxPooling3D((2, 2, 2), padding='same')(x)\n",
    "    x = Flatten()(x)\n",
    "    x = Dense(4096, activation='relu')(x)\n",
    "    x = Dense(num_classes, activation='softmax')\n",
    "    model = Model(input_img, x)\n",
    "\n",
    "\tif summary:\n",
    "\t\tprint(model.summary())\n",
    "\treturn model"
   ]
  },
  {
   "cell_type": "code",
   "execution_count": 8,
   "metadata": {},
   "outputs": [
    {
     "name": "stdout",
     "output_type": "stream",
     "text": [
      "_________________________________________________________________\n",
      "Layer (type)                 Output Shape              Param #   \n",
      "=================================================================\n",
      "conv1 (Conv3D)               (None, 49, 59, 21, 32)    896       \n",
      "_________________________________________________________________\n",
      "pool1 (MaxPooling3D)         (None, 24, 29, 10, 32)    0         \n",
      "_________________________________________________________________\n",
      "conv2 (Conv3D)               (None, 22, 27, 8, 64)     55360     \n",
      "_________________________________________________________________\n",
      "pool2 (MaxPooling3D)         (None, 11, 13, 4, 64)     0         \n",
      "_________________________________________________________________\n",
      "flatten_2 (Flatten)          (None, 36608)             0         \n",
      "_________________________________________________________________\n",
      "fc1 (Dense)                  (None, 4096)              149950464 \n",
      "_________________________________________________________________\n",
      "dense_2 (Dense)              (None, 60)                245820    \n",
      "=================================================================\n",
      "Total params: 150,252,540\n",
      "Trainable params: 150,252,540\n",
      "Non-trainable params: 0\n",
      "_________________________________________________________________\n",
      "None\n"
     ]
    },
    {
     "name": "stderr",
     "output_type": "stream",
     "text": [
      "/Users/piyush.kumar/abc/lib/python2.7/site-packages/ipykernel_launcher.py:21: UserWarning: Update your `MaxPooling3D` call to the Keras 2 API: `MaxPooling3D(padding=\"valid\", strides=(2, 2, 2), name=\"pool1\", pool_size=(2, 2, 2))`\n",
      "/Users/piyush.kumar/abc/lib/python2.7/site-packages/ipykernel_launcher.py:30: UserWarning: Update your `MaxPooling3D` call to the Keras 2 API: `MaxPooling3D(padding=\"valid\", strides=(2, 2, 2), name=\"pool2\", pool_size=(2, 2, 2))`\n"
     ]
    }
   ],
   "source": [
    "model = get_model(summary=True)"
   ]
  },
  {
   "cell_type": "code",
   "execution_count": 4,
   "metadata": {},
   "outputs": [],
   "source": [
    "from keras.utils import plot_model\n",
    "plot_model(model, to_file='cnn_model.png')"
   ]
  },
  {
   "cell_type": "code",
   "execution_count": 9,
   "metadata": {},
   "outputs": [],
   "source": [
    "input_shape = (56, 64, 24, 1)\n",
    "input_img = Input(shape=input_shape)\n",
    "\n",
    "# x = ZeroPadding3D(padding=((2, 3),(2, 1),(1, 0)))(input_img)\n",
    "x = Conv3D(16, (3, 3, 3), activation='relu', padding='same')(input_img)\n",
    "x = MaxPooling3D((2, 2, 2), padding='same')(x)\n",
    "x = Conv3D(8, (3, 3, 3), activation='relu', padding='same')(x)\n",
    "\n",
    "x = MaxPooling3D((2, 2, 2), padding='same')(x)\n",
    "x = Conv3D(8, (3, 3, 3), activation='relu', padding='same')(x)\n",
    "\n",
    "encoded = MaxPooling3D((2, 2, 2), padding='same')(x)\n",
    "\n",
    "x = Conv3D(8, (3, 3, 3), activation='relu', padding='same')(encoded)\n",
    "x = UpSampling3D((2, 2, 2))(x)\n",
    "x = Conv3D(8, (3, 3, 3), activation='relu', padding='same')(x)\n",
    "x = UpSampling3D((2, 2, 2))(x)\n",
    "x = Conv3D(16, (3, 3, 3), activation='relu', padding='same')(x)\n",
    "x = UpSampling3D((2, 2, 2))(x)\n",
    "decoded = Conv3D(1, (3, 3, 3), activation='relu', padding='same')(x)"
   ]
  },
  {
   "cell_type": "code",
   "execution_count": 12,
   "metadata": {},
   "outputs": [
    {
     "name": "stdout",
     "output_type": "stream",
     "text": [
      "_________________________________________________________________\n",
      "Layer (type)                 Output Shape              Param #   \n",
      "=================================================================\n",
      "input_1 (InputLayer)         (None, 56, 64, 24, 1)     0         \n",
      "_________________________________________________________________\n",
      "conv3d_1 (Conv3D)            (None, 56, 64, 24, 16)    448       \n",
      "_________________________________________________________________\n",
      "max_pooling3d_1 (MaxPooling3 (None, 28, 32, 12, 16)    0         \n",
      "_________________________________________________________________\n",
      "conv3d_2 (Conv3D)            (None, 28, 32, 12, 8)     3464      \n",
      "_________________________________________________________________\n",
      "max_pooling3d_2 (MaxPooling3 (None, 14, 16, 6, 8)      0         \n",
      "_________________________________________________________________\n",
      "conv3d_3 (Conv3D)            (None, 14, 16, 6, 8)      1736      \n",
      "_________________________________________________________________\n",
      "max_pooling3d_3 (MaxPooling3 (None, 7, 8, 3, 8)        0         \n",
      "_________________________________________________________________\n",
      "conv3d_4 (Conv3D)            (None, 7, 8, 3, 8)        1736      \n",
      "_________________________________________________________________\n",
      "up_sampling3d_1 (UpSampling3 (None, 14, 16, 6, 8)      0         \n",
      "_________________________________________________________________\n",
      "conv3d_5 (Conv3D)            (None, 14, 16, 6, 8)      1736      \n",
      "_________________________________________________________________\n",
      "up_sampling3d_2 (UpSampling3 (None, 28, 32, 12, 8)     0         \n",
      "_________________________________________________________________\n",
      "conv3d_6 (Conv3D)            (None, 28, 32, 12, 16)    3472      \n",
      "_________________________________________________________________\n",
      "up_sampling3d_3 (UpSampling3 (None, 56, 64, 24, 16)    0         \n",
      "_________________________________________________________________\n",
      "conv3d_7 (Conv3D)            (None, 56, 64, 24, 1)     433       \n",
      "=================================================================\n",
      "Total params: 13,025\n",
      "Trainable params: 13,025\n",
      "Non-trainable params: 0\n",
      "_________________________________________________________________\n"
     ]
    }
   ],
   "source": [
    "autoencoder = Model(input_img, decoded)\n",
    "autoencoder.compile(optimizer='adadelta', loss='binary_crossentropy')\n",
    "autoencoder.summary()"
   ]
  },
  {
   "cell_type": "code",
   "execution_count": 13,
   "metadata": {},
   "outputs": [],
   "source": [
    "plot_model(autoencoder, to_file='autoencoder.png')"
   ]
  },
  {
   "cell_type": "code",
   "execution_count": null,
   "metadata": {},
   "outputs": [],
   "source": []
  }
 ],
 "metadata": {
  "kernelspec": {
   "display_name": "Python 2",
   "language": "python",
   "name": "python2"
  },
  "language_info": {
   "codemirror_mode": {
    "name": "ipython",
    "version": 2
   },
   "file_extension": ".py",
   "mimetype": "text/x-python",
   "name": "python",
   "nbconvert_exporter": "python",
   "pygments_lexer": "ipython2",
   "version": "2.7.10"
  }
 },
 "nbformat": 4,
 "nbformat_minor": 2
}
