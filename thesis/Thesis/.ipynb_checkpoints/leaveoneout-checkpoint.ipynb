{
 "cells": [
  {
   "cell_type": "code",
   "execution_count": 1,
   "metadata": {},
   "outputs": [],
   "source": [
    "import itertools\n",
    "from sklearn import preprocessing\n",
    "from random import randint\n",
    "import numpy as np\n",
    "from sklearn import preprocessing\n",
    "from sklearn.svm import LinearSVC"
   ]
  },
  {
   "cell_type": "code",
   "execution_count": 2,
   "metadata": {},
   "outputs": [
    {
     "name": "stdout",
     "output_type": "stream",
     "text": [
      "[(0, 1), (0, 2), (0, 3), (0, 4), (1, 2), (1, 3), (1, 4), (2, 3), (2, 4), (3, 4)]\n"
     ]
    }
   ],
   "source": [
    "pairs = []\n",
    "for l in itertools.combinations(range(5), 2):\n",
    "    pairs.append(l)\n",
    "print pairs"
   ]
  },
  {
   "cell_type": "code",
   "execution_count": 3,
   "metadata": {},
   "outputs": [],
   "source": [
    "def train_test_split(indices):\n",
    "    og_data = np.load('leaveoneout/data_p1.npy')\n",
    "    labels = np.load('leaveoneout/labels_p1.npy')\n",
    "    conds = np.load('leaveoneout/conds_p1.npy')\n",
    "    \n",
    "    # Label encoder\n",
    "    le = preprocessing.LabelEncoder()\n",
    "    le.fit(labels)\n",
    "    labels = le.transform(labels)\n",
    "    x_train, x_test, y_train, y_test = [], [], [], []\n",
    "\n",
    "    smin = 0\n",
    "    smax = 1\n",
    "    x = og_data\n",
    "    xmax, xmin = x.max(), x.min()\n",
    "    norm_data = (x - xmin)*(smax - smin)/(xmax - xmin) + smin\n",
    "\n",
    "    # Sorting the data\n",
    "    sorted_index = np.argsort(labels)\n",
    "    sorted_labels = labels[sorted_index]\n",
    "    sorted_og_data = og_data[sorted_index]\n",
    "    sorted_conds = conds[sorted_index]\n",
    "    sorted_norm_data = norm_data[sorted_index]\n",
    "\n",
    "    # split the data into train and test\n",
    "#     test_random_indices = []\n",
    "#     for i in range(sorted_labels.shape[0]/split_part):\n",
    "#         index = i*split_part + randint(0, split_part - 1)\n",
    "#         test_random_indices.append(index)\n",
    "\n",
    "    x_train = np.delete(sorted_og_data, indices, 0)\n",
    "    x_test = sorted_og_data[indices]\n",
    "    y_train = np.delete(sorted_labels, indices)\n",
    "    y_test = sorted_labels[indices]\n",
    "    z_train = np.delete(sorted_conds, indices)\n",
    "    z_test = sorted_conds[indices]\n",
    "    \n",
    "    return x_train, x_test, y_train, y_test, z_train, z_test\n",
    "\n",
    "\n",
    "def get_mat(x_train):\n",
    "    voxel_corr_matrix = []\n",
    "    size = x_train.shape[0]/5\n",
    "    print size\n",
    "    for i in range(x_train.shape[1]):\n",
    "        voxel = x_train[:, i]\n",
    "        pre_corr_matrix = []\n",
    "        for j in range(size):\n",
    "            print j\n",
    "            k = j*5\n",
    "            pre_corr_matrix.append(voxel[k:k+5])\n",
    "\n",
    "        voxel_corr_matrix.append(np.transpose(pre_corr_matrix))\n",
    "\n",
    "    voxel_corr_matrix = np.asarray(voxel_corr_matrix)\n",
    "    \n",
    "    return voxel_corr_matrix"
   ]
  },
  {
   "cell_type": "code",
   "execution_count": 8,
   "metadata": {},
   "outputs": [
    {
     "name": "stdout",
     "output_type": "stream",
     "text": [
      "[[  0   1   2   3   4   5]\n",
      " [  6   7   8   9  10  11]\n",
      " [ 12  13  14  15  16  17]\n",
      " [ 18  19  20  21  22  23]\n",
      " [ 24  25  26  27  28  29]\n",
      " [ 30  31  32  33  34  35]\n",
      " [ 36  37  38  39  40  41]\n",
      " [ 42  43  44  45  46  47]\n",
      " [ 48  49  50  51  52  53]\n",
      " [ 54  55  56  57  58  59]\n",
      " [ 60  61  62  63  64  65]\n",
      " [ 66  67  68  69  70  71]\n",
      " [ 72  73  74  75  76  77]\n",
      " [ 78  79  80  81  82  83]\n",
      " [ 84  85  86  87  88  89]\n",
      " [ 90  91  92  93  94  95]\n",
      " [ 96  97  98  99 100 101]\n",
      " [102 103 104 105 106 107]\n",
      " [108 109 110 111 112 113]\n",
      " [114 115 116 117 118 119]\n",
      " [120 121 122 123 124 125]\n",
      " [126 127 128 129 130 131]\n",
      " [132 133 134 135 136 137]\n",
      " [138 139 140 141 142 143]\n",
      " [144 145 146 147 148 149]\n",
      " [150 151 152 153 154 155]\n",
      " [156 157 158 159 160 161]\n",
      " [162 163 164 165 166 167]\n",
      " [168 169 170 171 172 173]\n",
      " [174 175 176 177 178 179]\n",
      " [180 181 182 183 184 185]\n",
      " [186 187 188 189 190 191]\n",
      " [192 193 194 195 196 197]\n",
      " [198 199 200 201 202 203]\n",
      " [204 205 206 207 208 209]\n",
      " [210 211 212 213 214 215]\n",
      " [216 217 218 219 220 221]\n",
      " [222 223 224 225 226 227]\n",
      " [228 229 230 231 232 233]\n",
      " [234 235 236 237 238 239]\n",
      " [240 241 242 243 244 245]\n",
      " [246 247 248 249 250 251]\n",
      " [252 253 254 255 256 257]\n",
      " [258 259 260 261 262 263]\n",
      " [264 265 266 267 268 269]\n",
      " [270 271 272 273 274 275]\n",
      " [276 277 278 279 280 281]\n",
      " [282 283 284 285 286 287]\n",
      " [288 289 290 291 292 293]\n",
      " [294 295 296 297 298 299]\n",
      " [300 301 302 303 304 305]\n",
      " [306 307 308 309 310 311]\n",
      " [312 313 314 315 316 317]\n",
      " [318 319 320 321 322 323]\n",
      " [324 325 326 327 328 329]\n",
      " [330 331 332 333 334 335]\n",
      " [336 337 338 339 340 341]\n",
      " [342 343 344 345 346 347]\n",
      " [348 349 350 351 352 353]\n",
      " [354 355 356 357 358 359]]\n",
      "60\n",
      "[0.4]\n",
      "60\n",
      "[0.4, 0.5]\n",
      "60\n",
      "[0.4, 0.5, 0.43333333333333335]\n",
      "60\n",
      "[0.4, 0.5, 0.43333333333333335, 0.45]\n",
      "60\n",
      "[0.4, 0.5, 0.43333333333333335, 0.45, 0.45]\n",
      "60\n",
      "[0.4, 0.5, 0.43333333333333335, 0.45, 0.45, 0.4666666666666667]\n"
     ]
    }
   ],
   "source": [
    "shuffle = np.load('seq.npy')\n",
    "\n",
    "acc = []\n",
    "for i in range(6):\n",
    "    \n",
    "    x_train, x_test, y_train, y_test, z_train, z_test = train_test_split(shuffle[:, i])\n",
    "\n",
    "    voxel_corr_matrix = get_mat(x_train)\n",
    "\n",
    "    corr_arr = []\n",
    "    for i in range(voxel_corr_matrix.shape[0]):\n",
    "        voxel = voxel_corr_matrix[i]\n",
    "        corr = 0.0\n",
    "        for pair in pairs:\n",
    "            corr += np.corrcoef(voxel[pair[0]], voxel[pair[1]])[0, 1]\n",
    "        corr_arr.append(corr/len(pairs))\n",
    "\n",
    "    c_a = np.asarray(corr_arr)\n",
    "    sorted_index = np.argsort(c_a)[::-1]\n",
    "\n",
    "    x_t = x_train[:, sorted_index[:800]]\n",
    "    x_ts = x_test[:, sorted_index[:800]]\n",
    "\n",
    "    clf = LinearSVC()\n",
    "\n",
    "    clf.fit(x_t, y_train)\n",
    "\n",
    "    acc.append(clf.score(x_ts, y_test))"
   ]
  },
  {
   "cell_type": "code",
   "execution_count": 10,
   "metadata": {},
   "outputs": [
    {
     "name": "stdout",
     "output_type": "stream",
     "text": [
      "0.45\n"
     ]
    }
   ],
   "source": [
    "print np.average(acc, axis=0)"
   ]
  },
  {
   "cell_type": "code",
   "execution_count": 5,
   "metadata": {},
   "outputs": [
    {
     "name": "stdout",
     "output_type": "stream",
     "text": [
      "55\n"
     ]
    },
    {
     "ename": "KeyboardInterrupt",
     "evalue": "",
     "output_type": "error",
     "traceback": [
      "\u001b[0;31m---------------------------------------------------------------------------\u001b[0m",
      "\u001b[0;31mKeyboardInterrupt\u001b[0m                         Traceback (most recent call last)",
      "\u001b[0;32m<ipython-input-5-02a9c0208a07>\u001b[0m in \u001b[0;36m<module>\u001b[0;34m()\u001b[0m\n\u001b[1;32m      7\u001b[0m \u001b[0mcorr_train\u001b[0m \u001b[0;34m=\u001b[0m \u001b[0mnp\u001b[0m\u001b[0;34m.\u001b[0m\u001b[0mdelete\u001b[0m\u001b[0;34m(\u001b[0m\u001b[0mx_train\u001b[0m\u001b[0;34m,\u001b[0m \u001b[0mindices\u001b[0m\u001b[0;34m,\u001b[0m \u001b[0;36m0\u001b[0m\u001b[0;34m)\u001b[0m\u001b[0;34m\u001b[0m\u001b[0m\n\u001b[1;32m      8\u001b[0m \u001b[0;34m\u001b[0m\u001b[0m\n\u001b[0;32m----> 9\u001b[0;31m \u001b[0mvoxel_corr_matrix\u001b[0m \u001b[0;34m=\u001b[0m \u001b[0mget_mat\u001b[0m\u001b[0;34m(\u001b[0m\u001b[0mcorr_train\u001b[0m\u001b[0;34m)\u001b[0m\u001b[0;34m\u001b[0m\u001b[0m\n\u001b[0m\u001b[1;32m     10\u001b[0m \u001b[0;34m\u001b[0m\u001b[0m\n\u001b[1;32m     11\u001b[0m \u001b[0;32mprint\u001b[0m \u001b[0mvoxel_corr_matrix\u001b[0m\u001b[0;34m.\u001b[0m\u001b[0mshape\u001b[0m\u001b[0;34m\u001b[0m\u001b[0m\n",
      "\u001b[0;32m<ipython-input-3-1c79ce9306af>\u001b[0m in \u001b[0;36mget_mat\u001b[0;34m(x_train)\u001b[0m\n\u001b[1;32m     47\u001b[0m         \u001b[0;32mfor\u001b[0m \u001b[0mj\u001b[0m \u001b[0;32min\u001b[0m \u001b[0mrange\u001b[0m\u001b[0;34m(\u001b[0m\u001b[0mx_train\u001b[0m\u001b[0;34m[\u001b[0m\u001b[0;36m0\u001b[0m\u001b[0;34m]\u001b[0m\u001b[0;34m.\u001b[0m\u001b[0mshape\u001b[0m\u001b[0;34m[\u001b[0m\u001b[0;36m0\u001b[0m\u001b[0;34m]\u001b[0m\u001b[0;34m/\u001b[0m\u001b[0;36m5\u001b[0m\u001b[0;34m)\u001b[0m\u001b[0;34m:\u001b[0m\u001b[0;34m\u001b[0m\u001b[0m\n\u001b[1;32m     48\u001b[0m             \u001b[0mk\u001b[0m \u001b[0;34m=\u001b[0m \u001b[0mj\u001b[0m\u001b[0;34m*\u001b[0m\u001b[0;36m5\u001b[0m\u001b[0;34m\u001b[0m\u001b[0m\n\u001b[0;32m---> 49\u001b[0;31m             \u001b[0mpre_corr_matrix\u001b[0m\u001b[0;34m.\u001b[0m\u001b[0mappend\u001b[0m\u001b[0;34m(\u001b[0m\u001b[0mvoxel\u001b[0m\u001b[0;34m[\u001b[0m\u001b[0mk\u001b[0m\u001b[0;34m:\u001b[0m\u001b[0mk\u001b[0m\u001b[0;34m+\u001b[0m\u001b[0;36m5\u001b[0m\u001b[0;34m]\u001b[0m\u001b[0;34m)\u001b[0m\u001b[0;34m\u001b[0m\u001b[0m\n\u001b[0m\u001b[1;32m     50\u001b[0m \u001b[0;34m\u001b[0m\u001b[0m\n\u001b[1;32m     51\u001b[0m         \u001b[0mvoxel_corr_matrix\u001b[0m\u001b[0;34m.\u001b[0m\u001b[0mappend\u001b[0m\u001b[0;34m(\u001b[0m\u001b[0mnp\u001b[0m\u001b[0;34m.\u001b[0m\u001b[0mtranspose\u001b[0m\u001b[0;34m(\u001b[0m\u001b[0mpre_corr_matrix\u001b[0m\u001b[0;34m)\u001b[0m\u001b[0;34m)\u001b[0m\u001b[0;34m\u001b[0m\u001b[0m\n",
      "\u001b[0;31mKeyboardInterrupt\u001b[0m: "
     ]
    }
   ],
   "source": [
    "shuffle = np.load('seq.npy')\n",
    "\n",
    "x_train, x_test, y_train, y_test, z_train, z_test = train_test_split(shuffle[:, 0])\n",
    "\n",
    "indices = [i for i, x in enumerate(z_train) if x == \"manmade\"]\n",
    "\n",
    "corr_train = np.delete(x_train, indices, 0)\n",
    "\n",
    "voxel_corr_matrix = get_mat(corr_train)\n",
    "\n",
    "print voxel_corr_matrix.shape\n",
    "\n",
    "# corr_arr = []\n",
    "# for i in range(voxel_corr_matrix.shape[0]):\n",
    "#     voxel = voxel_corr_matrix[i]\n",
    "#     corr = 0.0\n",
    "#     for pair in pairs:\n",
    "#         corr += np.corrcoef(voxel[pair[0]], voxel[pair[1]])[0, 1]\n",
    "#     corr_arr.append(corr/len(pairs))\n",
    "\n",
    "# c_a = np.asarray(corr_arr)\n",
    "# sorted_index = np.argsort(c_a)[::-1]\n",
    "\n",
    "# x_t = x_train[:, sorted_index[:800]]\n",
    "# x_ts = x_test[:, sorted_index[:800]]"
   ]
  },
  {
   "cell_type": "code",
   "execution_count": 37,
   "metadata": {},
   "outputs": [
    {
     "name": "stdout",
     "output_type": "stream",
     "text": [
      "(275, 21764)\n"
     ]
    }
   ],
   "source": []
  },
  {
   "cell_type": "code",
   "execution_count": null,
   "metadata": {},
   "outputs": [],
   "source": []
  }
 ],
 "metadata": {
  "kernelspec": {
   "display_name": "Python 2",
   "language": "python",
   "name": "python2"
  },
  "language_info": {
   "codemirror_mode": {
    "name": "ipython",
    "version": 2
   },
   "file_extension": ".py",
   "mimetype": "text/x-python",
   "name": "python",
   "nbconvert_exporter": "python",
   "pygments_lexer": "ipython2",
   "version": "2.7.10"
  }
 },
 "nbformat": 4,
 "nbformat_minor": 2
}
